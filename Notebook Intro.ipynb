{
 "cells": [
  {
   "cell_type": "code",
   "execution_count": null,
   "metadata": {
    "collapsed": false
   },
   "outputs": [],
   "source": [
    "1+1"
   ]
  },
  {
   "cell_type": "code",
   "execution_count": null,
   "metadata": {
    "collapsed": false
   },
   "outputs": [],
   "source": [
    "import matplotlib.pyplot as plt\n",
    "import random"
   ]
  },
  {
   "cell_type": "code",
   "execution_count": null,
   "metadata": {
    "collapsed": true
   },
   "outputs": [],
   "source": [
    "%matplotlib inline"
   ]
  },
  {
   "cell_type": "code",
   "execution_count": null,
   "metadata": {
    "collapsed": false
   },
   "outputs": [],
   "source": [
    "plt.plot([random.random() for _ in range(20)])"
   ]
  },
  {
   "cell_type": "markdown",
   "metadata": {},
   "source": [
    "--------------------------------"
   ]
  },
  {
   "cell_type": "markdown",
   "metadata": {
    "collapsed": true
   },
   "source": [
    "\n",
    "# Import des Données"
   ]
  },
  {
   "cell_type": "markdown",
   "metadata": {},
   "source": [
    "## Données Trello"
   ]
  },
  {
   "cell_type": "code",
   "execution_count": null,
   "metadata": {
    "collapsed": true
   },
   "outputs": [],
   "source": [
    "import pandas as pd\n",
    "from pandas.io.json import json_normalize\n",
    "import json\n",
    "import seaborn as sns\n",
    "%matplotlib inline\n",
    "\n",
    "dict_drey = json.load(open('boardDreyfus.json'))"
   ]
  },
  {
   "cell_type": "code",
   "execution_count": null,
   "metadata": {
    "collapsed": false
   },
   "outputs": [],
   "source": [
    "dict_drey.keys()"
   ]
  },
  {
   "cell_type": "code",
   "execution_count": null,
   "metadata": {
    "collapsed": true
   },
   "outputs": [],
   "source": [
    "df_cards= json_normalize(dict_drey['cards'])"
   ]
  },
  {
   "cell_type": "code",
   "execution_count": null,
   "metadata": {
    "collapsed": false
   },
   "outputs": [],
   "source": [
    "df_cards[['name', 'idShort' , 'desc', 'url']].head()"
   ]
  },
  {
   "cell_type": "code",
   "execution_count": null,
   "metadata": {
    "collapsed": true
   },
   "outputs": [],
   "source": [
    "df_cards.sort_values('dateLastActivity', inplace=True)"
   ]
  },
  {
   "cell_type": "code",
   "execution_count": null,
   "metadata": {
    "collapsed": false
   },
   "outputs": [],
   "source": [
    "df_cards['one']= 0\n",
    "df_cards.loc[df_cards.subscribed,'one'] = df_cards[df_cards.subscribed].name.map(lambda x: x[1] if x[1] in ('1', '2', '3', '4', '5', '6') else '1').map(int).cumsum()\n",
    "df_cards.dateLastActivity = pd.to_datetime((df_cards.dateLastActivity), format='%Y-%m-%d %H:%M:%S.%f')"
   ]
  },
  {
   "cell_type": "code",
   "execution_count": null,
   "metadata": {
    "collapsed": false
   },
   "outputs": [],
   "source": [
    "df_cards.set_index('dateLastActivity').one.iloc[40:].plot()"
   ]
  },
  {
   "cell_type": "code",
   "execution_count": null,
   "metadata": {
    "collapsed": false
   },
   "outputs": [],
   "source": [
    "defaults_ids = set([l['id'] for l in dict_drey['labels'] if l['color']=='red'])\n",
    "list_done = [l['id'] for l in dict_drey['lists'] if l['name'].lower().find('done')>-1]\n",
    "df_cards= json_normalize(dict_drey['cards'])\n",
    "df_tickets = df_cards[df_cards['idList'].isin(list_done)]\n",
    "bac_rouge = df_tickets[df_tickets['idLabels'].map(lambda x: len(set(x)&defaults_ids)> 0)]\n",
    "bac_rouge.dateLastActivity = pd.to_datetime(bac_rouge.dateLastActivity)\n",
    "df_tickets['is_default'] = df_tickets['idLabels'].map(lambda x: len(set(x)&defaults_ids)> 0)\n",
    "df_tickets.dateLastActivity = pd.to_datetime(df_tickets.dateLastActivity , format='%Y-%m-%d %H:%M:%S.%f')\n",
    "df_tickets= df_tickets[df_tickets.name.map(lambda x:x.find('(')>-1)]\n",
    "df_tickets[['is_default', 'name']].groupby('is_default').count()\n",
    "df_tickets['estim'] = df_tickets.name.map(lambda x: x[1])\n",
    "df_tickets = df_tickets[df_tickets['estim'].isin([u'3', u'2', u'1',u'4'])]\n",
    "df_tickets['estim'] =df_tickets['estim'].map(int)\n",
    "df_tickets['post_eval'] = df_tickets.name.map(lambda x: int(x[-2]) if x[-1]==']' else -1)\n",
    "df_tickets = df_tickets.sort('dateLastActivity')\n",
    "df_tickets['is_default'] = df_tickets['is_default'] | (df_tickets['post_eval']>df_tickets['estim'])\n",
    "df_tickets['is_default'] = df_tickets['is_default'].map(int)\n",
    "df_tickets['one']=1\n",
    "df_tickets['ticketnb'] = df_tickets['one'].cumsum()\n",
    "df_tickets['defaultnb'] = df_tickets['is_default'].cumsum()\n",
    "df_tickets[df_tickets.set_index('dateLastActivity').index>\"2016.12\"].set_index('dateLastActivity')[['ticketnb', 'defaultnb']].plot(figsize = (15,15))"
   ]
  },
  {
   "cell_type": "markdown",
   "metadata": {},
   "source": [
    "## Données GIT"
   ]
  },
  {
   "cell_type": "code",
   "execution_count": null,
   "metadata": {
    "collapsed": true
   },
   "outputs": [],
   "source": [
    "import commands"
   ]
  },
  {
   "cell_type": "code",
   "execution_count": null,
   "metadata": {
    "collapsed": false
   },
   "outputs": [],
   "source": [
    "print commands.getstatusoutput(' cd ~/app2/dreyfus && git log | head -n20')[1]"
   ]
  },
  {
   "cell_type": "code",
   "execution_count": null,
   "metadata": {
    "collapsed": false
   },
   "outputs": [],
   "source": [
    "print commands.getstatusoutput(' cd ~/app2/dreyfus && git diff-tree --no-commit-id --name-only -r e885904aa6d18327d9f82fcc393feec07d9f5fd1')[1]"
   ]
  },
  {
   "cell_type": "code",
   "execution_count": null,
   "metadata": {
    "collapsed": false
   },
   "outputs": [],
   "source": [
    "with open('commit_hash_filechanged.json') as f:\n",
    "    commits_file = json.load(f)\n",
    "\n",
    "with open('commit_hash_ticket.json') as f:\n",
    "    commits_tickets = json.load(f)\n",
    "\n",
    "df_co_ti = pd.DataFrame([commits_tickets.keys(), commits_tickets.values()]).T\n",
    "dfco_fc = pd.read_json('commit_hash_filechanged.json', orient = 'index')\n",
    "\n",
    "df_co_ti[1] = df_co_ti[1].map(lambda x:x[1:-1])\n",
    "\n",
    "dfco_fc.drop(0,1, inplace = True)\n",
    "\n",
    "df_co_ti.columns = ['hash', 'ticket']\n",
    "\n",
    "dfco_fc.columns = ['files']\n",
    "\n",
    "df_files = df_co_ti.set_index('hash').join(dfco_fc)\n",
    "\n",
    "df_files.head()"
   ]
  },
  {
   "cell_type": "markdown",
   "metadata": {
    "collapsed": true
   },
   "source": [
    "## Join data"
   ]
  },
  {
   "cell_type": "code",
   "execution_count": null,
   "metadata": {
    "collapsed": true
   },
   "outputs": [],
   "source": [
    "with open('commit_hash_filechanged.json') as f:\n",
    "    commits_file = json.load(f)\n",
    "with open('commit_hash_ticket.json') as f:\n",
    "    commits_tickets = json.load(f)\n",
    "df_co_ti = pd.DataFrame([commits_tickets.keys(), commits_tickets.values()]).T\n",
    "dfco_fc = pd.read_json('commit_hash_filechanged.json', orient = 'index')\n",
    "df_co_ti[1] = df_co_ti[1].map(lambda x:x[1:-1])\n",
    "dfco_fc.drop(0,1, inplace = True)\n",
    "df_co_ti.head()\n",
    "df_co_ti.columns = ['hash', 'ticket']\n",
    "dfco_fc.columns = ['files']\n",
    "dfco_fc.head()\n",
    "df_files = df_co_ti.set_index('hash').join(dfco_fc)\n",
    "df_files.shape\n",
    "df_files.drop_duplicates(['ticket']).shape\n",
    "df_files.head()\n",
    "df_files.dropna(subset = ['ticket']).shape\n",
    "df_files.groupby('ticket').count().sort_values('files', ascending = 0)\n",
    "dffoo = df_files.groupby('ticket').agg({'files': lambda x:list(x)})\n",
    "df_tickets.idShort =df_tickets.idShort.map(str)\n",
    "df_tickets = df_tickets.join(dffoo, on='idShort')"
   ]
  },
  {
   "cell_type": "code",
   "execution_count": null,
   "metadata": {
    "collapsed": false
   },
   "outputs": [],
   "source": [
    "df_tickets[['name', 'idShort' , 'desc', 'url', 'files']].head()"
   ]
  },
  {
   "cell_type": "code",
   "execution_count": null,
   "metadata": {
    "collapsed": true
   },
   "outputs": [],
   "source": []
  }
 ],
 "metadata": {
  "kernelspec": {
   "display_name": "Python 2",
   "language": "python",
   "name": "python2"
  },
  "language_info": {
   "codemirror_mode": {
    "name": "ipython",
    "version": 2
   },
   "file_extension": ".py",
   "mimetype": "text/x-python",
   "name": "python",
   "nbconvert_exporter": "python",
   "pygments_lexer": "ipython2",
   "version": "2.7.12"
  }
 },
 "nbformat": 4,
 "nbformat_minor": 2
}
