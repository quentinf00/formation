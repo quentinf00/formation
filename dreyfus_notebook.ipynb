{
 "cells": [
  {
   "cell_type": "code",
   "execution_count": 4,
   "metadata": {
    "collapsed": true
   },
   "outputs": [],
   "source": [
    "f = open('commits.txt')\n",
    "txt = f.read()"
   ]
  },
  {
   "cell_type": "code",
   "execution_count": 5,
   "metadata": {
    "collapsed": true
   },
   "outputs": [],
   "source": [
    "commits = txt.split('commit ')"
   ]
  },
  {
   "cell_type": "code",
   "execution_count": 3,
   "metadata": {
    "collapsed": false
   },
   "outputs": [
    {
     "data": {
      "text/plain": [
       "['',\n",
       " '027a6dde3db8c24b29d252323535482e01c1850c\\nMerge: 71540c5 6dfdc93\\nAuthor: Quentin Febvre <quentinf@theodo.fr>\\nDate:   Fri Feb 24 10:42:03 2017 +0100\\n\\n    Merge pull request #1787 from theodo/3552-Adds-case-when-webpaege-alert-is-deleted\\n    \\n    [Preprod][3552] Adds case when webpage alert is deleted in whois consumer\\n\\n',\n",
       " '71540c5ee0ed316cd4e01adfec83db41bb818c97\\nMerge: 3272ff7 f9d4b0c\\nAuthor: Quentin Febvre <quentinf@theodo.fr>\\nDate:   Fri Feb 24 10:41:47 2017 +0100\\n\\n    Merge pull request #1790 from theodo/3527-Adds-case-when-webpage-alert-is-deleted-for-screencapture\\n    \\n    [Preprod][3527] Adds case when webpage alert is deleted for screencapture\\n\\n']"
      ]
     },
     "execution_count": 3,
     "metadata": {},
     "output_type": "execute_result"
    }
   ],
   "source": [
    "commits[:3]"
   ]
  },
  {
   "cell_type": "code",
   "execution_count": 43,
   "metadata": {
    "collapsed": false
   },
   "outputs": [],
   "source": [
    "commits_dict = {co.splitlines()[0]: re.search('\\[([0-9]+)\\]', co).group() for co in commits if len(co)>1 and co.lower().find('preprod')==-1 and co.lower().find('merge')==-1 and re.search('\\[([0-9]+)\\]', co)}"
   ]
  },
  {
   "cell_type": "code",
   "execution_count": 44,
   "metadata": {
    "collapsed": false
   },
   "outputs": [
    {
     "data": {
      "text/plain": [
       "1363"
      ]
     },
     "execution_count": 44,
     "metadata": {},
     "output_type": "execute_result"
    }
   ],
   "source": [
    "len(commits_dict)"
   ]
  },
  {
   "cell_type": "code",
   "execution_count": 38,
   "metadata": {
    "collapsed": false
   },
   "outputs": [],
   "source": [
    "import json"
   ]
  },
  {
   "cell_type": "code",
   "execution_count": 70,
   "metadata": {
    "collapsed": false
   },
   "outputs": [],
   "source": [
    "a = !git diff-tree --no-commit-id --name-only -r de90297aa20d349f3c6934b2f2be12cc17936e7b"
   ]
  },
  {
   "cell_type": "code",
   "execution_count": 71,
   "metadata": {
    "collapsed": false
   },
   "outputs": [
    {
     "data": {
      "text/plain": [
       "['sf2/app/DoctrineMigrations/Version20161128135617.php',\n",
       " 'sf2/src/Dreyfus/IPWebBundle/Controller/WebPageAlertController.php',\n",
       " 'sf2/src/Dreyfus/IPWebBundle/Entity/Alert.php',\n",
       " 'sf2/src/Dreyfus/IPWebBundle/Entity/AlertRelevance.php',\n",
       " 'sf2/src/Dreyfus/IPWebBundle/Entity/AlertRelevanceTranslation.php',\n",
       " 'sf2/src/Dreyfus/IPWebBundle/Entity/WebPageScreencaptureHistory.php',\n",
       " 'sf2/src/Dreyfus/IPWebBundle/Resources/public/css/sf_admin.css',\n",
       " 'sf2/src/Dreyfus/IPWebBundle/Resources/translations/watch.en.xliff',\n",
       " 'sf2/src/Dreyfus/IPWebBundle/Resources/translations/watch.fr.xliff',\n",
       " 'sf2/src/Dreyfus/IPWebBundle/Resources/views/WebPage/view.html.twig']"
      ]
     },
     "execution_count": 71,
     "metadata": {},
     "output_type": "execute_result"
    }
   ],
   "source": [
    "\n",
    "a"
   ]
  },
  {
   "cell_type": "code",
   "execution_count": 78,
   "metadata": {
    "collapsed": false
   },
   "outputs": [],
   "source": [
    "import commands\n"
   ]
  },
  {
   "cell_type": "code",
   "execution_count": 67,
   "metadata": {
    "collapsed": true
   },
   "outputs": [],
   "source": [
    "co = 'de90297aa20d349f3c6934b2f2be12cc17936e7b'"
   ]
  },
  {
   "cell_type": "code",
   "execution_count": 80,
   "metadata": {
    "collapsed": false
   },
   "outputs": [
    {
     "data": {
      "text/plain": [
       "(0,\n",
       " 'sf2/app/DoctrineMigrations/Version20161128135617.php\\nsf2/src/Dreyfus/IPWebBundle/Controller/WebPageAlertController.php\\nsf2/src/Dreyfus/IPWebBundle/Entity/Alert.php\\nsf2/src/Dreyfus/IPWebBundle/Entity/AlertRelevance.php\\nsf2/src/Dreyfus/IPWebBundle/Entity/AlertRelevanceTranslation.php\\nsf2/src/Dreyfus/IPWebBundle/Entity/WebPageScreencaptureHistory.php\\nsf2/src/Dreyfus/IPWebBundle/Resources/public/css/sf_admin.css\\nsf2/src/Dreyfus/IPWebBundle/Resources/translations/watch.en.xliff\\nsf2/src/Dreyfus/IPWebBundle/Resources/translations/watch.fr.xliff\\nsf2/src/Dreyfus/IPWebBundle/Resources/views/WebPage/view.html.twig')"
      ]
     },
     "execution_count": 80,
     "metadata": {},
     "output_type": "execute_result"
    }
   ],
   "source": [
    "commands.getstatusoutput(' cd ~/app2/dreyfus && git diff-tree --no-commit-id --name-only -r de90297aa20d349f3c6934b2f2be12cc17936e7b')"
   ]
  },
  {
   "cell_type": "code",
   "execution_count": 82,
   "metadata": {
    "collapsed": false
   },
   "outputs": [],
   "source": [
    "file_changed_dict = { co: commands.getstatusoutput('git diff-tree --no-commit-id --name-only -r {}'.format(co)) for co in commits_dict} "
   ]
  },
  {
   "cell_type": "code",
   "execution_count": 6,
   "metadata": {
    "collapsed": false
   },
   "outputs": [
    {
     "name": "stdout",
     "output_type": "stream",
     "text": [
      "26361\r\n"
     ]
    }
   ],
   "source": [
    "!ls -lR sf2/vendor | wc -l"
   ]
  },
  {
   "cell_type": "code",
   "execution_count": 85,
   "metadata": {
    "collapsed": true
   },
   "outputs": [],
   "source": [
    "json.dump(file_changed_dict, open('commit_hash_filechanged.json', 'w'))"
   ]
  },
  {
   "cell_type": "code",
   "execution_count": 84,
   "metadata": {
    "collapsed": false
   },
   "outputs": [],
   "source": [
    "json.dump(commits_dict, open('commit_hash_ticket.json', 'w'))"
   ]
  },
  {
   "cell_type": "code",
   "execution_count": 27,
   "metadata": {
    "collapsed": false
   },
   "outputs": [
    {
     "data": {
      "text/plain": [
       "380"
      ]
     },
     "execution_count": 27,
     "metadata": {},
     "output_type": "execute_result"
    }
   ],
   "source": [
    "len(commits_arr)"
   ]
  },
  {
   "cell_type": "code",
   "execution_count": 23,
   "metadata": {
    "collapsed": false
   },
   "outputs": [
    {
     "data": {
      "text/plain": [
       "['71540c5ee0ed316cd4e01adfec83db41bb818c97',\n",
       " 'Merge:',\n",
       " '3272ff7',\n",
       " 'f9d4b0c',\n",
       " 'Author:',\n",
       " 'Quentin',\n",
       " 'Febvre',\n",
       " '<quentinf@theodo.fr>',\n",
       " 'Date:',\n",
       " 'Fri',\n",
       " 'Feb',\n",
       " '24',\n",
       " '10:41:47',\n",
       " '2017',\n",
       " '+0100',\n",
       " 'Merge',\n",
       " 'pull',\n",
       " 'request',\n",
       " '#1790',\n",
       " 'from',\n",
       " 'theodo/3527-Adds-case-when-webpage-alert-is-deleted-for-screencapture',\n",
       " '[Preprod][3527]',\n",
       " 'Adds',\n",
       " 'case',\n",
       " 'when',\n",
       " 'webpage',\n",
       " 'alert',\n",
       " 'is',\n",
       " 'deleted',\n",
       " 'for',\n",
       " 'screencapture']"
      ]
     },
     "execution_count": 23,
     "metadata": {},
     "output_type": "execute_result"
    }
   ],
   "source": [
    "commits_arr"
   ]
  },
  {
   "cell_type": "code",
   "execution_count": 29,
   "metadata": {
    "collapsed": false
   },
   "outputs": [
    {
     "data": {
      "text/plain": [
       "[['[Preprod][3552]'],\n",
       " ['[Preprod][3527]'],\n",
       " ['[Preprod][3474]'],\n",
       " ['[Preprod][3438]'],\n",
       " ['[Preprod][3265]'],\n",
       " ['[Preprod][3425]/Feature'],\n",
       " ['[Preprod][3425]'],\n",
       " ['[Preprod][3395]'],\n",
       " ['[Preprod][3427]'],\n",
       " ['[Preprod][3427]'],\n",
       " ['[Preprod][3393]'],\n",
       " ['[Preprod]'],\n",
       " ['[Preprod][3364]'],\n",
       " ['[Preprod]\\xc2\\xa0Feature/3363'],\n",
       " ['[Preprod][3394]'],\n",
       " ['[Preprod][3450]'],\n",
       " ['[Preprod]'],\n",
       " ['[Preprod][3333]'],\n",
       " ['[Preprod][3357]'],\n",
       " ['[Preprod][3374]'],\n",
       " ['[Preprod]'],\n",
       " ['[Preprod][3403]Fix'],\n",
       " ['[Preprod][3353]'],\n",
       " ['[Preprod][3354]'],\n",
       " ['[Preprod][3334]'],\n",
       " ['[Preprod]'],\n",
       " ['[Preprod]'],\n",
       " ['[Preprod][3344]'],\n",
       " ['[Preprod]'],\n",
       " ['[Preprod][3325]'],\n",
       " ['[Preprod]'],\n",
       " ['[Preprod]'],\n",
       " ['[Preprod]'],\n",
       " ['[Preprod]'],\n",
       " ['[Preprod][3323]'],\n",
       " [],\n",
       " ['[Preprod][3322]'],\n",
       " ['[Preprod][3282]'],\n",
       " ['[Preprod][3318]'],\n",
       " ['[Preprod][3350]'],\n",
       " ['[Preprod][3302]'],\n",
       " ['[Preprod][3302]'],\n",
       " ['[Preprod]'],\n",
       " ['[Preprod]'],\n",
       " ['[Preprod]'],\n",
       " ['[Preprod]'],\n",
       " ['[Preprod]'],\n",
       " ['[Preprod][3246]'],\n",
       " ['[Preprod][3300]'],\n",
       " ['[Preprod][3299]'],\n",
       " ['[Preprod]'],\n",
       " ['[Preprod][3294]'],\n",
       " ['[Preprod][3341]'],\n",
       " ['[Preprod]'],\n",
       " ['[Preprod][3183]'],\n",
       " ['[Preprod][3184]'],\n",
       " ['[Preprod]'],\n",
       " ['[Preprod][3272]'],\n",
       " ['[Preprod][3277]'],\n",
       " ['[Preprod]'],\n",
       " ['[Preprod][3308]'],\n",
       " ['[Preprod]'],\n",
       " ['[Preprod]'],\n",
       " ['[Preprod][3268]'],\n",
       " ['[Preprod]'],\n",
       " ['[Preprod][3243]'],\n",
       " ['[Preprod]'],\n",
       " ['[Preprod][3276]'],\n",
       " ['[Preprod][3242]'],\n",
       " ['[Preprod][3242]'],\n",
       " ['[Preprod]'],\n",
       " ['[Preprod][3241]'],\n",
       " ['[Preprod]'],\n",
       " ['[Preprod]'],\n",
       " ['[Preprod]'],\n",
       " ['[Preprod][3240]'],\n",
       " ['[Preprod][3238]'],\n",
       " ['[Preprod][3251]'],\n",
       " ['[Preprod][3244]'],\n",
       " ['[Preprod][3213]'],\n",
       " ['[Preprod][3220]'],\n",
       " ['[Preprod][3215]'],\n",
       " ['[Preprod][3212]'],\n",
       " ['[Preprod]'],\n",
       " ['[Preprod][3204]'],\n",
       " ['[Preprod][3203]'],\n",
       " ['[Preprod][3216]'],\n",
       " ['[Preprod][3191]'],\n",
       " ['[Preprod][3202]'],\n",
       " ['[Preprod][3208]'],\n",
       " ['[Preprod]'],\n",
       " ['[Preprod]'],\n",
       " ['[Preprod][3181]'],\n",
       " ['[Preprod][3148]'],\n",
       " ['[Preprod][3182]'],\n",
       " ['[Preprod][3169]'],\n",
       " ['[Preprod]'],\n",
       " ['[Preprod][3174]'],\n",
       " ['[Preprod][3189]'],\n",
       " ['[Preprod]'],\n",
       " ['[Preprod]'],\n",
       " ['[Preprod]'],\n",
       " ['[Preprod]'],\n",
       " ['[Preprod]'],\n",
       " ['[Preprod][3151]'],\n",
       " ['[Preprod][TIMEBOX]'],\n",
       " ['[Preprod][3129]'],\n",
       " ['[Preprod]'],\n",
       " ['[Preprod]'],\n",
       " ['[Preprod][3155]'],\n",
       " ['[Preprod]'],\n",
       " ['[Preprod][3134]'],\n",
       " ['[Preprod][3131]'],\n",
       " ['[Preprod][3119]'],\n",
       " ['[Preprod][3120]'],\n",
       " ['[Preprod]'],\n",
       " ['[Preprod]'],\n",
       " ['[Preprod][3098]'],\n",
       " ['[Preprod][3099]'],\n",
       " ['[Preprod]'],\n",
       " ['[Preprod]'],\n",
       " ['[Preprod][3104]'],\n",
       " ['[Preprod]'],\n",
       " ['[Preprod][3021]'],\n",
       " ['[preprod][3028]'],\n",
       " ['[Preprod]'],\n",
       " ['[Preprod][3018]'],\n",
       " ['[Preprod][2963]'],\n",
       " ['[Preprod][3036]'],\n",
       " ['[Preprod][2963]'],\n",
       " ['[Preprod]'],\n",
       " ['[Preprod][3001]'],\n",
       " ['[Preprod][2958]'],\n",
       " ['[Preprod][2482]'],\n",
       " ['[Preprod]'],\n",
       " ['[preprod]'],\n",
       " ['[Preprod][2992]'],\n",
       " ['[Preprod]'],\n",
       " ['[Preprod][2574]'],\n",
       " ['[Preprod][2962]'],\n",
       " ['[Preprod]'],\n",
       " ['[Preprod][2919]'],\n",
       " ['[Preprod][2944]'],\n",
       " ['[Preprod][2255]'],\n",
       " ['[Preprod][2849]'],\n",
       " ['[Preprod]'],\n",
       " ['[Preprod][2830]'],\n",
       " ['[Preprod][2926]'],\n",
       " ['[preprod]'],\n",
       " ['[Preprod][2254]'],\n",
       " ['[Preprod][2925]'],\n",
       " ['[Preprod]'],\n",
       " ['[preprod]'],\n",
       " ['[Preprod]'],\n",
       " ['[Preprod][2827]'],\n",
       " ['[Preprod]'],\n",
       " ['[Preprod][2805]'],\n",
       " ['[Preprod][2818]'],\n",
       " ['[Preprod][2795]'],\n",
       " ['[Preprod][2779]'],\n",
       " ['[Preprod][2716]'],\n",
       " ['[preprod][2715]'],\n",
       " ['[Preprod][2780]'],\n",
       " ['[Preprod][2793]'],\n",
       " [],\n",
       " ['[Preprod]'],\n",
       " ['[Preprod]'],\n",
       " ['[Preprod]'],\n",
       " ['[Preprod]'],\n",
       " ['[Preprod][2682]'],\n",
       " ['[Preprod]'],\n",
       " ['[Preprod]'],\n",
       " ['[preprod]'],\n",
       " ['[preprod]'],\n",
       " ['[preprod][2565]'],\n",
       " ['[preprod][2596]'],\n",
       " ['[preprod][2550]'],\n",
       " ['[preprod]'],\n",
       " ['[preprod][2511]'],\n",
       " ['[preprod]'],\n",
       " ['[preprod]'],\n",
       " ['[preprod][fix]'],\n",
       " ['[preprod]'],\n",
       " ['[preprod][2588]'],\n",
       " ['[preprod]'],\n",
       " ['[preprod][2501]'],\n",
       " ['[preprod][2582]'],\n",
       " ['[preprod]'],\n",
       " ['[preprod]'],\n",
       " ['[preprod][2549]'],\n",
       " ['[preprod][2558]'],\n",
       " ['[preprod][2585]'],\n",
       " ['[preprod]'],\n",
       " ['[preprod][2528]'],\n",
       " ['[preprod][2531]'],\n",
       " ['[preprod]'],\n",
       " ['[Preprod]'],\n",
       " ['[Preprod]'],\n",
       " ['[Preprod]'],\n",
       " [],\n",
       " [],\n",
       " [],\n",
       " [],\n",
       " [],\n",
       " [],\n",
       " [],\n",
       " [],\n",
       " [],\n",
       " [],\n",
       " [],\n",
       " [],\n",
       " [],\n",
       " [],\n",
       " [],\n",
       " [],\n",
       " [],\n",
       " [],\n",
       " [],\n",
       " [],\n",
       " [],\n",
       " [],\n",
       " [],\n",
       " [],\n",
       " [],\n",
       " [],\n",
       " [],\n",
       " [],\n",
       " [],\n",
       " [],\n",
       " [],\n",
       " [],\n",
       " [],\n",
       " [],\n",
       " [],\n",
       " [],\n",
       " [],\n",
       " [],\n",
       " [],\n",
       " [],\n",
       " [],\n",
       " [],\n",
       " [],\n",
       " [],\n",
       " [],\n",
       " [],\n",
       " [],\n",
       " [],\n",
       " [],\n",
       " [],\n",
       " [],\n",
       " [],\n",
       " [],\n",
       " [],\n",
       " [],\n",
       " [],\n",
       " [],\n",
       " [],\n",
       " [],\n",
       " [],\n",
       " [],\n",
       " [],\n",
       " [],\n",
       " [],\n",
       " [],\n",
       " [],\n",
       " [],\n",
       " [],\n",
       " [],\n",
       " [],\n",
       " [],\n",
       " [],\n",
       " [],\n",
       " [],\n",
       " [],\n",
       " [],\n",
       " [],\n",
       " [],\n",
       " [],\n",
       " [],\n",
       " [],\n",
       " [],\n",
       " [],\n",
       " [],\n",
       " [],\n",
       " [],\n",
       " [],\n",
       " [],\n",
       " [],\n",
       " [],\n",
       " [],\n",
       " [],\n",
       " [],\n",
       " [],\n",
       " [],\n",
       " [],\n",
       " [],\n",
       " [],\n",
       " [],\n",
       " [],\n",
       " [],\n",
       " [],\n",
       " [],\n",
       " [],\n",
       " [],\n",
       " [],\n",
       " [],\n",
       " [],\n",
       " [],\n",
       " [],\n",
       " [],\n",
       " [],\n",
       " [],\n",
       " [],\n",
       " [],\n",
       " [],\n",
       " [],\n",
       " [],\n",
       " [],\n",
       " [],\n",
       " [],\n",
       " [],\n",
       " [],\n",
       " [],\n",
       " [],\n",
       " [],\n",
       " [],\n",
       " [],\n",
       " [],\n",
       " [],\n",
       " [],\n",
       " [],\n",
       " [],\n",
       " [],\n",
       " [],\n",
       " [],\n",
       " [],\n",
       " [],\n",
       " [],\n",
       " [],\n",
       " [],\n",
       " [],\n",
       " [],\n",
       " [],\n",
       " [],\n",
       " [],\n",
       " [],\n",
       " [],\n",
       " [],\n",
       " [],\n",
       " [],\n",
       " [],\n",
       " [],\n",
       " [],\n",
       " [],\n",
       " [],\n",
       " [],\n",
       " [],\n",
       " [],\n",
       " [],\n",
       " [],\n",
       " [],\n",
       " [],\n",
       " [],\n",
       " [],\n",
       " [],\n",
       " [],\n",
       " [],\n",
       " [],\n",
       " [],\n",
       " [],\n",
       " [],\n",
       " [],\n",
       " [],\n",
       " [],\n",
       " [],\n",
       " [],\n",
       " [],\n",
       " [],\n",
       " [],\n",
       " []]"
      ]
     },
     "execution_count": 29,
     "metadata": {},
     "output_type": "execute_result"
    }
   ],
   "source": [
    "map(lambda x:filter(lambda xx:xx.lower().find('[preprod]')>-1, x),commits_arr)"
   ]
  },
  {
   "cell_type": "code",
   "execution_count": 15,
   "metadata": {
    "collapsed": false
   },
   "outputs": [
    {
     "data": {
      "text/plain": [
       "6908"
      ]
     },
     "execution_count": 15,
     "metadata": {},
     "output_type": "execute_result"
    }
   ],
   "source": [
    "len(commits_arr)"
   ]
  },
  {
   "cell_type": "code",
   "execution_count": 3,
   "metadata": {
    "collapsed": true
   },
   "outputs": [],
   "source": [
    "import re"
   ]
  },
  {
   "cell_type": "code",
   "execution_count": 23,
   "metadata": {
    "collapsed": false
   },
   "outputs": [],
   "source": [
    "m = re.search('\\[([0-9]+)\\]', commits[1]).group()"
   ]
  },
  {
   "cell_type": "code",
   "execution_count": 18,
   "metadata": {
    "collapsed": false
   },
   "outputs": [
    {
     "data": {
      "text/plain": [
       "'027a6dde3db8c24b29d252323535482e01c1850c\\nMerge: 71540c5 6dfdc93\\nAuthor: Quentin Febvre <quentinf@theodo.fr>\\nDate:   Fri Feb 24 10:42:03 2017 +0100\\n\\n    Merge pull request #1787 from theodo/3552-Adds-case-when-webpaege-alert-is-deleted\\n    \\n    [Preprod][3552] Adds case when webpage alert is deleted in whois consumer\\n\\n'"
      ]
     },
     "execution_count": 18,
     "metadata": {},
     "output_type": "execute_result"
    }
   ],
   "source": [
    "commits[1]"
   ]
  },
  {
   "cell_type": "code",
   "execution_count": 25,
   "metadata": {
    "collapsed": false
   },
   "outputs": [
    {
     "data": {
      "text/plain": [
       "'[3552]'"
      ]
     },
     "execution_count": 25,
     "metadata": {},
     "output_type": "execute_result"
    }
   ],
   "source": [
    "m"
   ]
  },
  {
   "cell_type": "code",
   "execution_count": null,
   "metadata": {
    "collapsed": true
   },
   "outputs": [],
   "source": []
  },
  {
   "cell_type": "code",
   "execution_count": null,
   "metadata": {
    "collapsed": true
   },
   "outputs": [],
   "source": []
  }
 ],
 "metadata": {
  "kernelspec": {
   "display_name": "Python 2",
   "language": "python",
   "name": "python2"
  },
  "language_info": {
   "codemirror_mode": {
    "name": "ipython",
    "version": 2
   },
   "file_extension": ".py",
   "mimetype": "text/x-python",
   "name": "python",
   "nbconvert_exporter": "python",
   "pygments_lexer": "ipython2",
   "version": "2.7.12"
  }
 },
 "nbformat": 4,
 "nbformat_minor": 2
}
