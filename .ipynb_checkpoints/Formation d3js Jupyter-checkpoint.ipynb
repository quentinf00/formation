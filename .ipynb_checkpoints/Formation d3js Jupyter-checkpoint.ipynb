{
 "cells": [
  {
   "cell_type": "code",
   "execution_count": 1,
   "metadata": {
    "collapsed": true
   },
   "outputs": [],
   "source": [
    "from IPython.display import HTML"
   ]
  },
  {
   "cell_type": "code",
   "execution_count": null,
   "metadata": {
    "collapsed": true
   },
   "outputs": [],
   "source": [
    "import pandas as pd\n",
    "\n",
    "from pandas.io.json import json_normalize\n",
    "\n",
    "\n",
    "import json\n",
    "\n",
    "dict_drey = json.load(open('boardDreyfus.json'))"
   ]
  },
  {
   "cell_type": "code",
   "execution_count": 6,
   "metadata": {
    "collapsed": false,
    "scrolled": true
   },
   "outputs": [
    {
     "data": {
      "text/plain": [
       "[u'labels',\n",
       " u'actions',\n",
       " u'id',\n",
       " u'datePluginDisable',\n",
       " u'subscribed',\n",
       " u'idTags',\n",
       " u'pinned',\n",
       " u'shortUrl',\n",
       " u'closed',\n",
       " u'checklists',\n",
       " u'prefs',\n",
       " u'dateLastActivity',\n",
       " u'lists',\n",
       " u'invitations',\n",
       " u'dateLastView',\n",
       " u'members',\n",
       " u'powerUps',\n",
       " u'desc',\n",
       " u'descData',\n",
       " u'labelNames',\n",
       " u'name',\n",
       " u'shortLink',\n",
       " u'idOrganization',\n",
       " u'invited',\n",
       " u'memberships',\n",
       " u'url',\n",
       " u'pluginData',\n",
       " u'cards',\n",
       " u'starred']"
      ]
     },
     "execution_count": 6,
     "metadata": {},
     "output_type": "execute_result"
    }
   ],
   "source": [
    "dict_drey.keys()"
   ]
  },
  {
   "cell_type": "code",
   "execution_count": null,
   "metadata": {
    "collapsed": true
   },
   "outputs": [],
   "source": []
  },
  {
   "cell_type": "code",
   "execution_count": 7,
   "metadata": {
    "collapsed": false
   },
   "outputs": [],
   "source": [
    "defaults_ids = set([l['id'] for l in dict_drey['labels'] if l['color']=='red'])"
   ]
  },
  {
   "cell_type": "code",
   "execution_count": 8,
   "metadata": {
    "collapsed": false
   },
   "outputs": [],
   "source": [
    "list_done = [l['id'] for l in dict_drey['lists'] if l['name'].lower().find('done')>-1]"
   ]
  },
  {
   "cell_type": "code",
   "execution_count": 9,
   "metadata": {
    "collapsed": false
   },
   "outputs": [
    {
     "data": {
      "text/plain": [
       "[u'58b53642e82bfd3ef78f928b',\n",
       " u'58ac0d0b27f6125c4124c624',\n",
       " u'58a2d6c6671ad0d827023be4',\n",
       " u'5899994e00d3e1d008ea798a',\n",
       " u'588b4bb2dedee07b8756e282',\n",
       " u'587dead0e5d0570734d28484',\n",
       " u'5876519c79464f0f251e32a0',\n",
       " u'586cc732242eebbb623e33eb',\n",
       " u'585114e02f0522020f703bed',\n",
       " u'5847db02f035df1993fe98a1',\n",
       " u'583e8dd25deb2216473e04e1',\n",
       " u'58341552c170785a3a510027',\n",
       " u'577b6503ef6ea0c3282b203f',\n",
       " u'56713215a74ecc2bc0385968']"
      ]
     },
     "execution_count": 9,
     "metadata": {},
     "output_type": "execute_result"
    }
   ],
   "source": [
    "list_done"
   ]
  },
  {
   "cell_type": "code",
   "execution_count": 10,
   "metadata": {
    "collapsed": false
   },
   "outputs": [],
   "source": [
    "df_cards= json_normalize(dict_drey['cards'])"
   ]
  },
  {
   "cell_type": "code",
   "execution_count": 37,
   "metadata": {
    "collapsed": true
   },
   "outputs": [],
   "source": [
    "df_tickets = df_cards[df_cards['idList'].isin(list_done)]"
   ]
  },
  {
   "cell_type": "code",
   "execution_count": 12,
   "metadata": {
    "collapsed": false
   },
   "outputs": [],
   "source": [
    "bac_rouge = df_tickets[df_tickets['idLabels'].map(lambda x: len(set(x)&defaults_ids)> 0)]"
   ]
  },
  {
   "cell_type": "code",
   "execution_count": 15,
   "metadata": {
    "collapsed": false
   },
   "outputs": [
    {
     "data": {
      "text/plain": [
       "519                      (2) MEP IPWeb +Marques blanches\n",
       "536                             (2) MEPP (hors dossiers)\n",
       "538                (2) Roundcube marque blanche demo [3]\n",
       "549    (0.5) ETQU,lorsque je crée un dossier, je ne p...\n",
       "550    (1) ETQU, lorsque je crée ou lance une whois e...\n",
       "551    (1) ETQU, lorsque je crée ou lance une screenc...\n",
       "558    (3) [TIMEBOX] ETQU Dreyfus, je peux donner des...\n",
       "575                                (2) MEP IPweb PHP 5.6\n",
       "576    (2) [URGENT] ETQU Client, je peux donner des i...\n",
       "577    (2) [URGENT] ETQU, je peux envoyer des notific...\n",
       "585    (3) ETQU lorsque je clique sur \"Créer\" dans do...\n",
       "595    [ENQUETE] (2) ETQU, je peux me connecter au we...\n",
       "601    (3) [Timebox]ETQU Dreyfus, je vois les champs ...\n",
       "607    (3) ETQU je peux attribuer un apporteur d'affa...\n",
       "610    (2) ETQU, je vois les résultats des surveillan...\n",
       "632    (2) ETQU, je vois le statut de l'alerte mise a...\n",
       "635    (3)[Timebox] [URGENT] ETQU, lorsque j'importe ...\n",
       "644    (1) ETQU, je vois le statut d'une capture whoi...\n",
       "648    (3) [Investigation]ETQU, je peux exporter une ...\n",
       "649    (2) [Timebox] ETQU, je peux envoyer un email d...\n",
       "650    (3) ETQU, je peux envoyer une facture par emai...\n",
       "653    (3) [Investigation]ETQU, je vois les alertes p...\n",
       "660    (2) [TIMEBOX 3h] ETQU, je reçois les mails de ...\n",
       "681    (3) [5] ETQU, je peux chercher les whois des n...\n",
       "683    (2) ETQU, lorsque j'envoie un dossier en factu...\n",
       "690    (2) [2] ETQU, je vois un champ Statut dans le ...\n",
       "691    (2) [2] ETQU, je peux changer la langue de l'i...\n",
       "706                        (1) [1] MEPP IPWeb (+ Client)\n",
       "708                                    (1) [1] MEP IPWeb\n",
       "717    (3) [3] ETQU, je peux filtrer sur la page Surv...\n",
       "718    [3] (3) ETQU, je peux filtrer sur la page Surv...\n",
       "719                            [1] (1) MEPP IPWeb Client\n",
       "720    [URGENT] (0.5) [0.5] - ETQU, je vois les alert...\n",
       "723    (3) ETQU, je peux utiliser des actions globale...\n",
       "724                                   (1) [1] MEPP IPWeb\n",
       "738    (2) ETQU, je peux notifier des clients dans le...\n",
       "745                            (2) [2] MEPP IPWeb Client\n",
       "746    (2) [2] ETQU je peux éditer une alerte de type...\n",
       "748    (2) [1] ETQU sur la page de vue d'une alerte d...\n",
       "751    (2) [2] ETQU, lorsque j'importe un fichier Exc...\n",
       "756    (3) [3] ETQU, je vois les noms de domaines imp...\n",
       "758    [3] (3) [TIMEBOX] ETQU, lorsque je supprime un...\n",
       "761    (2) ETQU, je peux gérer les actions personnali...\n",
       "770                                    (1) [1] MEP IPweb\n",
       "779    (3) [3] ETQU, je peux lancer une requête whois...\n",
       "805    (3) URGENT - ETQU, je peux éditer et enregistr...\n",
       "808    (3) [3] [TIMEBOX] ETQU, sur la page Suivi des ...\n",
       "813    (2) [2] ETQU, je vois une image \"vide\" lorsque...\n",
       "823    [4] (3) Déployer la prod sur la nouvelle VM de...\n",
       "824                                       (0) MEPP IPWeb\n",
       "827    (3) [TIMEBOX] ETQU, je peux créer un modèle de...\n",
       "844    (2) [6] ETQU, lors que je modifie une alerte, ...\n",
       "849    (2) ETQ Client, je peux supprimer une catégori...\n",
       "850    (2) ETQ Client, je peux modifier une catégorie...\n",
       "851    (2) [REGRESSION] : Problème d'affichage pour l...\n",
       "854    [TIMEBOX] (3) ETQ Client je peux voir la liste...\n",
       "863                       (0.5) Régression: droits [0.5]\n",
       "864    (0.5) ETQU quand je clique sur OK avec l'actio...\n",
       "Name: name, dtype: object"
      ]
     },
     "execution_count": 15,
     "metadata": {},
     "output_type": "execute_result"
    }
   ],
   "source": [
    "bac_rouge.name"
   ]
  },
  {
   "cell_type": "code",
   "execution_count": 13,
   "metadata": {
    "collapsed": false
   },
   "outputs": [
    {
     "data": {
      "text/plain": [
       "58"
      ]
     },
     "execution_count": 13,
     "metadata": {},
     "output_type": "execute_result"
    }
   ],
   "source": [
    "len(bac_rouge)"
   ]
  },
  {
   "cell_type": "code",
   "execution_count": 16,
   "metadata": {
    "collapsed": false
   },
   "outputs": [
    {
     "name": "stderr",
     "output_type": "stream",
     "text": [
      "/usr/local/lib/python2.7/dist-packages/pandas/core/generic.py:2773: SettingWithCopyWarning: \n",
      "A value is trying to be set on a copy of a slice from a DataFrame.\n",
      "Try using .loc[row_indexer,col_indexer] = value instead\n",
      "\n",
      "See the caveats in the documentation: http://pandas.pydata.org/pandas-docs/stable/indexing.html#indexing-view-versus-copy\n",
      "  self[name] = value\n"
     ]
    }
   ],
   "source": [
    "bac_rouge.dateLastActivity = pd.to_datetime(bac_rouge.dateLastActivity)"
   ]
  },
  {
   "cell_type": "code",
   "execution_count": 17,
   "metadata": {
    "collapsed": true
   },
   "outputs": [],
   "source": [
    "import matplotlib.pyplot as plt"
   ]
  },
  {
   "cell_type": "code",
   "execution_count": 18,
   "metadata": {
    "collapsed": true
   },
   "outputs": [],
   "source": [
    "%matplotlib inline"
   ]
  },
  {
   "cell_type": "code",
   "execution_count": 70,
   "metadata": {
    "collapsed": false
   },
   "outputs": [],
   "source": [
    "df_tickets['is_default'] = df_tickets['idLabels'].map(lambda x: len(set(x)&defaults_ids)> 0)"
   ]
  },
  {
   "cell_type": "code",
   "execution_count": 38,
   "metadata": {
    "collapsed": true
   },
   "outputs": [],
   "source": [
    "df_tickets.dateLastActivity = pd.to_datetime(df_tickets.dateLastActivity , format='%Y-%m-%d %H:%M:%S.%f')"
   ]
  },
  {
   "cell_type": "code",
   "execution_count": 39,
   "metadata": {
    "collapsed": false
   },
   "outputs": [],
   "source": [
    "df_tickets= df_tickets[df_tickets.name.map(lambda x:x.find('(')>-1)]"
   ]
  },
  {
   "cell_type": "code",
   "execution_count": 40,
   "metadata": {
    "collapsed": false
   },
   "outputs": [
    {
     "data": {
      "text/plain": [
       "(238, 38)"
      ]
     },
     "execution_count": 40,
     "metadata": {},
     "output_type": "execute_result"
    }
   ],
   "source": [
    "df_tickets.shape"
   ]
  },
  {
   "cell_type": "code",
   "execution_count": 41,
   "metadata": {
    "collapsed": false
   },
   "outputs": [
    {
     "data": {
      "text/plain": [
       "(238, 38)"
      ]
     },
     "execution_count": 41,
     "metadata": {},
     "output_type": "execute_result"
    }
   ],
   "source": [
    "df_tickets.shape"
   ]
  },
  {
   "cell_type": "code",
   "execution_count": 55,
   "metadata": {
    "collapsed": false
   },
   "outputs": [
    {
     "data": {
      "text/html": [
       "<div>\n",
       "<table border=\"1\" class=\"dataframe\">\n",
       "  <thead>\n",
       "    <tr style=\"text-align: right;\">\n",
       "      <th></th>\n",
       "      <th>name</th>\n",
       "    </tr>\n",
       "    <tr>\n",
       "      <th>is_default</th>\n",
       "      <th></th>\n",
       "    </tr>\n",
       "  </thead>\n",
       "  <tbody>\n",
       "    <tr>\n",
       "      <th>0</th>\n",
       "      <td>135</td>\n",
       "    </tr>\n",
       "    <tr>\n",
       "      <th>1</th>\n",
       "      <td>67</td>\n",
       "    </tr>\n",
       "  </tbody>\n",
       "</table>\n",
       "</div>"
      ],
      "text/plain": [
       "            name\n",
       "is_default      \n",
       "0            135\n",
       "1             67"
      ]
     },
     "execution_count": 55,
     "metadata": {},
     "output_type": "execute_result"
    }
   ],
   "source": [
    "df_tickets[['is_default', 'name']].groupby('is_default').count()\n"
   ]
  },
  {
   "cell_type": "code",
   "execution_count": 45,
   "metadata": {
    "collapsed": false
   },
   "outputs": [],
   "source": [
    "df_tickets['estim'] = df_tickets.name.map(lambda x: x[1])"
   ]
  },
  {
   "cell_type": "code",
   "execution_count": 46,
   "metadata": {
    "collapsed": false
   },
   "outputs": [],
   "source": [
    "df_tickets = df_tickets[df_tickets['estim'].isin([u'3', u'2', u'1',u'4'])]"
   ]
  },
  {
   "cell_type": "code",
   "execution_count": 47,
   "metadata": {
    "collapsed": false
   },
   "outputs": [
    {
     "name": "stderr",
     "output_type": "stream",
     "text": [
      "/usr/local/lib/python2.7/dist-packages/ipykernel/__main__.py:1: SettingWithCopyWarning: \n",
      "A value is trying to be set on a copy of a slice from a DataFrame.\n",
      "Try using .loc[row_indexer,col_indexer] = value instead\n",
      "\n",
      "See the caveats in the documentation: http://pandas.pydata.org/pandas-docs/stable/indexing.html#indexing-view-versus-copy\n",
      "  if __name__ == '__main__':\n"
     ]
    }
   ],
   "source": [
    "df_tickets['estim'] =df_tickets['estim'].map(int)"
   ]
  },
  {
   "cell_type": "code",
   "execution_count": 48,
   "metadata": {
    "collapsed": false
   },
   "outputs": [
    {
     "data": {
      "text/plain": [
       "array([3, 2, 1, 4])"
      ]
     },
     "execution_count": 48,
     "metadata": {},
     "output_type": "execute_result"
    }
   ],
   "source": [
    "df_tickets['estim'].unique()"
   ]
  },
  {
   "cell_type": "code",
   "execution_count": 49,
   "metadata": {
    "collapsed": false
   },
   "outputs": [
    {
     "name": "stderr",
     "output_type": "stream",
     "text": [
      "/usr/local/lib/python2.7/dist-packages/ipykernel/__main__.py:1: SettingWithCopyWarning: \n",
      "A value is trying to be set on a copy of a slice from a DataFrame.\n",
      "Try using .loc[row_indexer,col_indexer] = value instead\n",
      "\n",
      "See the caveats in the documentation: http://pandas.pydata.org/pandas-docs/stable/indexing.html#indexing-view-versus-copy\n",
      "  if __name__ == '__main__':\n"
     ]
    }
   ],
   "source": [
    "df_tickets['post_eval'] = df_tickets.name.map(lambda x: int(x[-2]) if x[-1]==']' else -1)"
   ]
  },
  {
   "cell_type": "code",
   "execution_count": 50,
   "metadata": {
    "collapsed": false
   },
   "outputs": [
    {
     "data": {
      "text/plain": [
       "array([-1,  2,  5,  1,  3,  0])"
      ]
     },
     "execution_count": 50,
     "metadata": {},
     "output_type": "execute_result"
    }
   ],
   "source": [
    "df_tickets['post_eval'].unique()"
   ]
  },
  {
   "cell_type": "code",
   "execution_count": 51,
   "metadata": {
    "collapsed": false
   },
   "outputs": [
    {
     "name": "stderr",
     "output_type": "stream",
     "text": [
      "/usr/local/lib/python2.7/dist-packages/ipykernel/__main__.py:1: FutureWarning: sort(columns=....) is deprecated, use sort_values(by=.....)\n",
      "  if __name__ == '__main__':\n"
     ]
    }
   ],
   "source": [
    "df_tickets = df_tickets.sort('dateLastActivity')"
   ]
  },
  {
   "cell_type": "code",
   "execution_count": 273,
   "metadata": {
    "collapsed": false
   },
   "outputs": [],
   "source": [
    "df_tickets['is_default'] = df_tickets['is_default'] | (df_tickets['post_eval']>df_tickets['estim'])"
   ]
  },
  {
   "cell_type": "code",
   "execution_count": 53,
   "metadata": {
    "collapsed": false
   },
   "outputs": [],
   "source": [
    "df_tickets['is_default'] = df_tickets['is_default'].map(int)"
   ]
  },
  {
   "cell_type": "code",
   "execution_count": 54,
   "metadata": {
    "collapsed": true
   },
   "outputs": [],
   "source": [
    "df_tickets['one']=1"
   ]
  },
  {
   "cell_type": "code",
   "execution_count": 71,
   "metadata": {
    "collapsed": false
   },
   "outputs": [],
   "source": [
    "df_tickets['ticketnb'] = df_tickets['one'].cumsum()"
   ]
  },
  {
   "cell_type": "code",
   "execution_count": 72,
   "metadata": {
    "collapsed": true
   },
   "outputs": [],
   "source": [
    "df_tickets['defaultnb'] = df_tickets['is_default'].cumsum()"
   ]
  },
  {
   "cell_type": "code",
   "execution_count": 62,
   "metadata": {
    "collapsed": false
   },
   "outputs": [
    {
     "data": {
      "text/plain": [
       "array([ True,  True,  True,  True,  True,  True,  True,  True,  True,\n",
       "        True,  True,  True,  True,  True,  True,  True,  True,  True,\n",
       "        True,  True,  True,  True,  True,  True,  True,  True,  True,\n",
       "        True,  True,  True,  True,  True,  True,  True,  True,  True,\n",
       "        True,  True,  True,  True,  True,  True,  True,  True,  True,\n",
       "        True,  True,  True,  True,  True,  True,  True,  True,  True,\n",
       "        True,  True,  True,  True,  True,  True,  True,  True,  True,\n",
       "        True,  True,  True,  True,  True,  True,  True,  True,  True,\n",
       "        True,  True,  True,  True,  True,  True,  True,  True,  True,\n",
       "        True,  True,  True,  True,  True,  True,  True,  True,  True,\n",
       "        True,  True,  True,  True,  True,  True,  True,  True,  True,\n",
       "        True,  True,  True,  True,  True,  True,  True,  True,  True,\n",
       "        True,  True,  True,  True,  True,  True,  True,  True,  True,\n",
       "        True,  True,  True,  True,  True,  True,  True,  True,  True,\n",
       "        True,  True,  True,  True,  True,  True,  True,  True,  True,\n",
       "        True,  True,  True,  True,  True,  True,  True,  True,  True,\n",
       "        True,  True,  True,  True,  True,  True,  True,  True,  True,\n",
       "        True,  True,  True,  True,  True,  True,  True,  True,  True,\n",
       "        True,  True,  True,  True,  True,  True,  True,  True,  True,\n",
       "        True,  True,  True,  True,  True,  True,  True,  True,  True,\n",
       "        True,  True,  True,  True,  True,  True,  True,  True,  True,\n",
       "        True,  True,  True,  True,  True,  True,  True,  True,  True,\n",
       "        True,  True,  True,  True], dtype=bool)"
      ]
     },
     "execution_count": 62,
     "metadata": {},
     "output_type": "execute_result"
    }
   ],
   "source": [
    "df_tickets.set_index('dateLastActivity').index>\"2016\""
   ]
  },
  {
   "cell_type": "code",
   "execution_count": 76,
   "metadata": {
    "collapsed": false
   },
   "outputs": [
    {
     "data": {
      "text/plain": [
       "<matplotlib.axes._subplots.AxesSubplot at 0x7f852e7374d0>"
      ]
     },
     "execution_count": 76,
     "metadata": {},
     "output_type": "execute_result"
    },
    {
     "data": {
      "image/png": "[encoded data removed]",
      "text/plain": [
       "<matplotlib.figure.Figure at 0x7f852e6cdc90>"
      ]
     },
     "metadata": {},
     "output_type": "display_data"
    }
   ],
   "source": [
    "df_tickets[df_tickets.set_index('dateLastView').index>\"2016.12\"].set_index('dateLastActivity')[['ticketnb', 'defaultnb']].plot(figsize = (15,15))"
   ]
  },
  {
   "cell_type": "code",
   "execution_count": 77,
   "metadata": {
    "collapsed": false
   },
   "outputs": [
    {
     "data": {
      "text/plain": [
       "<matplotlib.axes._subplots.AxesSubplot at 0x7f852e7eb6d0>"
      ]
     },
     "execution_count": 77,
     "metadata": {},
     "output_type": "execute_result"
    },
    {
     "data": {
      "image/png": "[encoded data removed]",
      "text/plain": [
       "<matplotlib.figure.Figure at 0x7f852e62d250>"
      ]
     },
     "metadata": {},
     "output_type": "display_data"
    }
   ],
   "source": [
    "(df_tickets.set_index('dateLastActivity')['defaultnb']/ df_tickets.set_index('dateLastActivity')['ticketnb']).plot()"
   ]
  },
  {
   "cell_type": "code",
   "execution_count": null,
   "metadata": {
    "collapsed": false
   },
   "outputs": [],
   "source": []
  },
  {
   "cell_type": "code",
   "execution_count": 78,
   "metadata": {
    "collapsed": true
   },
   "outputs": [],
   "source": [
    "with open('arborescence_dreyfus.txt' ) as f:\n",
    "    arbo = f.read()"
   ]
  },
  {
   "cell_type": "code",
   "execution_count": 79,
   "metadata": {
    "collapsed": false
   },
   "outputs": [],
   "source": [
    "arr_path = map(lambda x: x[1:].replace('/','.') + ',',arbo.splitlines())"
   ]
  },
  {
   "cell_type": "code",
   "execution_count": 80,
   "metadata": {
    "collapsed": false
   },
   "outputs": [],
   "source": [
    "path_series = pd.Series(arr_path)"
   ]
  },
  {
   "cell_type": "code",
   "execution_count": 81,
   "metadata": {
    "collapsed": false
   },
   "outputs": [],
   "source": [
    "path_series = path_series.map(lambda x:x[1:] if x[0]=='.' else x)"
   ]
  },
  {
   "cell_type": "code",
   "execution_count": 218,
   "metadata": {
    "collapsed": false
   },
   "outputs": [],
   "source": [
    "def cropIfIsInSeries(x):\n",
    "    if x.count('.')==0 :return x\n",
    "    tmp = '.'.join(x.split('.')[0:-1])\n",
    "    if list(path_series.values).count(tmp)==1 : \n",
    "        return x\n",
    "    return tmp"
   ]
  },
  {
   "cell_type": "code",
   "execution_count": 219,
   "metadata": {
    "collapsed": false
   },
   "outputs": [],
   "source": [
    "path_series = path_series.map(lambda x:x[:-1] if x[-1]==',' else x)\n",
    "\n",
    "path_series =path_series.map(cropIfIsInSeries)\n",
    "\n",
    "path_series = path_series.map(lambda x:x+',')"
   ]
  },
  {
   "cell_type": "code",
   "execution_count": 220,
   "metadata": {
    "collapsed": false
   },
   "outputs": [],
   "source": [
    "with open('treeD3/arbo.csv', 'w') as f:\n",
    "    f.write('id,value\\nroot,\\n' + '\\n'.join(path_series.map(lambda x: 'root.'+x).unique()))"
   ]
  },
  {
   "cell_type": "code",
   "execution_count": 217,
   "metadata": {
    "collapsed": false
   },
   "outputs": [],
   "source": [
    "with open('arbo_dreyfus.json', 'w') as f:\n",
    "    json.dump(list(path_series.map(lambda x: x.strip(',').strip('.'))\\\n",
    ".drop_duplicates()\\\n",
    ".map(lambda x: {'id': ('root.'+x).strip('.'),'value':''}).values), f,  indent=4)\n"
   ]
  },
  {
   "cell_type": "code",
   "execution_count": 86,
   "metadata": {
    "collapsed": false
   },
   "outputs": [],
   "source": [
    "# from string import Template\n",
    "\n",
    "# with open('treeD3/html_template.html') as f:\n",
    "#     html_template = Template(f.read())\n",
    "\n",
    "\n",
    "\n",
    "# viz = html_template.substitute({'python_data': json.dumps(list(path_series.map(lambda x: x.strip(',').strip('.'))\\\n",
    "# .drop_duplicates()\\\n",
    "# .map(lambda x: {'id': ('root.'+x).strip('.'),'value':''}).values), indent =4)})\n",
    "\n",
    "# HTML(viz) "
   ]
  },
  {
   "cell_type": "code",
   "execution_count": 87,
   "metadata": {
    "collapsed": true
   },
   "outputs": [],
   "source": [
    "with open('arbo_dreyfus.json') as f:\n",
    "    arbo_dict = json.load(f)"
   ]
  },
  {
   "cell_type": "code",
   "execution_count": null,
   "metadata": {
    "collapsed": false
   },
   "outputs": [],
   "source": []
  },
  {
   "cell_type": "code",
   "execution_count": 88,
   "metadata": {
    "collapsed": true
   },
   "outputs": [],
   "source": [
    "hier_dict = {}"
   ]
  },
  {
   "cell_type": "code",
   "execution_count": 235,
   "metadata": {
    "collapsed": false
   },
   "outputs": [],
   "source": [
    "id_list = [k['id'] for k in arbo_dict]"
   ]
  },
  {
   "cell_type": "code",
   "execution_count": 236,
   "metadata": {
    "collapsed": false
   },
   "outputs": [],
   "source": [
    "end_nodes = [k for k in id_list if len(filter(lambda x: k+'.' in x, id_list))==0]\n",
    "    \n",
    "    "
   ]
  },
  {
   "cell_type": "code",
   "execution_count": 237,
   "metadata": {
    "collapsed": false
   },
   "outputs": [],
   "source": [
    "def initDIct():\n",
    "    hier_dict = {'name': 'root', 'children': []}\n",
    "    for n in end_nodes:\n",
    "        d = hier_dict\n",
    "        keys = n.split('.')\n",
    "        for k in keys[:-1]:\n",
    "            if d['name'] == k:\n",
    "                continue\n",
    "            l = filter(lambda x:x['name']==k, d['children'])\n",
    "            if len(l)>0: \n",
    "                d = l[0]\n",
    "                continue\n",
    "            dd = {'name': k, 'children': []}    \n",
    "            d['children'].append(dd)\n",
    "            d=dd\n",
    "        d['children'].append({'name': keys[-1], 'size':0})\n",
    "    return hier_dict\n",
    "\n"
   ]
  },
  {
   "cell_type": "markdown",
   "metadata": {
    "collapsed": false
   },
   "source": [
    "with open('treeD3collaps/arbo_hier.json', 'w') as f:\n",
    "    json.dump(hier_dict, f)"
   ]
  },
  {
   "cell_type": "code",
   "execution_count": 243,
   "metadata": {
    "collapsed": false
   },
   "outputs": [],
   "source": [
    "with open('donuts./arbo_hier.json', 'w') as f:\n",
    "    json.dump(hier_dict, f)"
   ]
  },
  {
   "cell_type": "code",
   "execution_count": 229,
   "metadata": {
    "collapsed": false
   },
   "outputs": [],
   "source": [
    "hier_dict = initDIct()"
   ]
  },
  {
   "cell_type": "code",
   "execution_count": 247,
   "metadata": {
    "collapsed": false
   },
   "outputs": [
    {
     "data": {
      "text/plain": [
       "{'children': [], 'name': 'root'}"
      ]
     },
     "execution_count": 247,
     "metadata": {},
     "output_type": "execute_result"
    }
   ],
   "source": [
    "hier_dict"
   ]
  },
  {
   "cell_type": "code",
   "execution_count": 267,
   "metadata": {
    "collapsed": false
   },
   "outputs": [
    {
     "data": {
      "text/plain": [
       "(202, 46)"
      ]
     },
     "execution_count": 267,
     "metadata": {},
     "output_type": "execute_result"
    }
   ],
   "source": [
    "df_tickets.shape"
   ]
  },
  {
   "cell_type": "code",
   "execution_count": 274,
   "metadata": {
    "collapsed": false
   },
   "outputs": [
    {
     "data": {
      "text/plain": [
       "(67, 46)"
      ]
     },
     "execution_count": 274,
     "metadata": {},
     "output_type": "execute_result"
    }
   ],
   "source": [
    "df_tickets[df_tickets.is_default.map(lambda x:x==1)].shape"
   ]
  },
  {
   "cell_type": "code",
   "execution_count": 94,
   "metadata": {
    "collapsed": true
   },
   "outputs": [],
   "source": [
    "import json"
   ]
  },
  {
   "cell_type": "code",
   "execution_count": 95,
   "metadata": {
    "collapsed": true
   },
   "outputs": [],
   "source": [
    "with open('CirclePack/arbo_hier.json') as f:\n",
    "    arbo = json.load(f)"
   ]
  },
  {
   "cell_type": "code",
   "execution_count": 96,
   "metadata": {
    "collapsed": true
   },
   "outputs": [],
   "source": [
    "import os\n"
   ]
  },
  {
   "cell_type": "code",
   "execution_count": 97,
   "metadata": {
    "collapsed": false
   },
   "outputs": [
    {
     "data": {
      "text/plain": [
       "['filr_modified.json',\n",
       " 'file_modified_default.json',\n",
       " 'treeD3collaps',\n",
       " 'CirclePack notebook.ipynb',\n",
       " 'lib',\n",
       " 'CirclePack',\n",
       " 'commit_hash_filechanged.json',\n",
       " 'Embedded D3.ipynb',\n",
       " 'd3-jupyter-tutorial',\n",
       " 'file_modified.json',\n",
       " 'foo2.txt',\n",
       " 'commit_hash_ticket.json',\n",
       " 'd3.artzub.com',\n",
       " 'foo.html',\n",
       " 'treeD3',\n",
       " 'file_modified_not_default.json',\n",
       " 'arborescence_dreyfus.txt',\n",
       " 'dreyfus_notebook.ipynb',\n",
       " 'donuts',\n",
       " 'highlight.min.js',\n",
       " 'boardDreyfus.json',\n",
       " 'Formation d3js Jupyter.ipynb',\n",
       " 'd3.parsets.js',\n",
       " '.ipynb_checkpoints',\n",
       " 'arbo_dreyfus.json']"
      ]
     },
     "execution_count": 97,
     "metadata": {},
     "output_type": "execute_result"
    }
   ],
   "source": [
    "os.listdir('.')"
   ]
  },
  {
   "cell_type": "code",
   "execution_count": 98,
   "metadata": {
    "collapsed": true
   },
   "outputs": [],
   "source": [
    "with open('commit_hash_filechanged.json') as f:\n",
    "    commits_file = json.load(f)"
   ]
  },
  {
   "cell_type": "code",
   "execution_count": 99,
   "metadata": {
    "collapsed": true
   },
   "outputs": [],
   "source": [
    "with open('commit_hash_ticket.json') as f:\n",
    "    commits_tickets = json.load(f)"
   ]
  },
  {
   "cell_type": "code",
   "execution_count": 100,
   "metadata": {
    "collapsed": false
   },
   "outputs": [],
   "source": [
    "df_co_ti = pd.DataFrame([commits_tickets.keys(), commits_tickets.values()]).T"
   ]
  },
  {
   "cell_type": "code",
   "execution_count": 101,
   "metadata": {
    "collapsed": false
   },
   "outputs": [],
   "source": [
    "dfco_fc = pd.read_json('commit_hash_filechanged.json', orient = 'index')"
   ]
  },
  {
   "cell_type": "code",
   "execution_count": 102,
   "metadata": {
    "collapsed": false
   },
   "outputs": [],
   "source": [
    "df_co_ti[1] = df_co_ti[1].map(lambda x:x[1:-1])"
   ]
  },
  {
   "cell_type": "code",
   "execution_count": 103,
   "metadata": {
    "collapsed": false
   },
   "outputs": [],
   "source": [
    "dfco_fc.drop(0,1, inplace = True)"
   ]
  },
  {
   "cell_type": "code",
   "execution_count": 104,
   "metadata": {
    "collapsed": false
   },
   "outputs": [
    {
     "data": {
      "text/html": [
       "<div>\n",
       "<table border=\"1\" class=\"dataframe\">\n",
       "  <thead>\n",
       "    <tr style=\"text-align: right;\">\n",
       "      <th></th>\n",
       "      <th>0</th>\n",
       "      <th>1</th>\n",
       "    </tr>\n",
       "  </thead>\n",
       "  <tbody>\n",
       "    <tr>\n",
       "      <th>0</th>\n",
       "      <td>cb7b4dd05f1ec1d1fbe4c4699f4ee36f7e5c417c</td>\n",
       "      <td>3308</td>\n",
       "    </tr>\n",
       "    <tr>\n",
       "      <th>1</th>\n",
       "      <td>2f11aea5a0975fad465f3ff98fd73821bba87ed3</td>\n",
       "      <td>3</td>\n",
       "    </tr>\n",
       "    <tr>\n",
       "      <th>2</th>\n",
       "      <td>de90297aa20d349f3c6934b2f2be12cc17936e7b</td>\n",
       "      <td>3180</td>\n",
       "    </tr>\n",
       "    <tr>\n",
       "      <th>3</th>\n",
       "      <td>e5ccb4295f6f06e4fa6dafdd0db2154e973234e2</td>\n",
       "      <td>1629</td>\n",
       "    </tr>\n",
       "    <tr>\n",
       "      <th>4</th>\n",
       "      <td>183b46e2069e59eb4ae3121541ff890d52f9b81a</td>\n",
       "      <td>679</td>\n",
       "    </tr>\n",
       "  </tbody>\n",
       "</table>\n",
       "</div>"
      ],
      "text/plain": [
       "                                          0     1\n",
       "0  cb7b4dd05f1ec1d1fbe4c4699f4ee36f7e5c417c  3308\n",
       "1  2f11aea5a0975fad465f3ff98fd73821bba87ed3     3\n",
       "2  de90297aa20d349f3c6934b2f2be12cc17936e7b  3180\n",
       "3  e5ccb4295f6f06e4fa6dafdd0db2154e973234e2  1629\n",
       "4  183b46e2069e59eb4ae3121541ff890d52f9b81a   679"
      ]
     },
     "execution_count": 104,
     "metadata": {},
     "output_type": "execute_result"
    }
   ],
   "source": [
    "df_co_ti.head()"
   ]
  },
  {
   "cell_type": "code",
   "execution_count": 105,
   "metadata": {
    "collapsed": false
   },
   "outputs": [],
   "source": [
    "df_co_ti.columns = ['hash', 'ticket']"
   ]
  },
  {
   "cell_type": "code",
   "execution_count": 106,
   "metadata": {
    "collapsed": true
   },
   "outputs": [],
   "source": [
    "dfco_fc.columns = ['files']"
   ]
  },
  {
   "cell_type": "code",
   "execution_count": 107,
   "metadata": {
    "collapsed": false
   },
   "outputs": [
    {
     "data": {
      "text/html": [
       "<div>\n",
       "<table border=\"1\" class=\"dataframe\">\n",
       "  <thead>\n",
       "    <tr style=\"text-align: right;\">\n",
       "      <th></th>\n",
       "      <th>files</th>\n",
       "    </tr>\n",
       "  </thead>\n",
       "  <tbody>\n",
       "    <tr>\n",
       "      <th>00640a9aaa0c40e5124231ebe874bd12a202f73d</th>\n",
       "      <td>apps/frontend/i18n/en/messages.xml\\napps/front...</td>\n",
       "    </tr>\n",
       "    <tr>\n",
       "      <th>00efd7cbeb89b64568b6697372c546cf4868c899</th>\n",
       "      <td>sf2/src/Dreyfus/InvoicingBundle/Resources/view...</td>\n",
       "    </tr>\n",
       "    <tr>\n",
       "      <th>011b55712e153a6c7eb812cd68521153e73f9eaa</th>\n",
       "      <td>sf2/src/Dreyfus/InvoicingBundle/Controller/Pay...</td>\n",
       "    </tr>\n",
       "    <tr>\n",
       "      <th>013d570b8f880e170050200316e1648b09ce06fb</th>\n",
       "      <td>web/.htaccess</td>\n",
       "    </tr>\n",
       "    <tr>\n",
       "      <th>0153b7b208bb8fef1f5314fad939b0e412a65278</th>\n",
       "      <td>sf2/src/Dreyfus/InvoicingBundle/Resources/tran...</td>\n",
       "    </tr>\n",
       "  </tbody>\n",
       "</table>\n",
       "</div>"
      ],
      "text/plain": [
       "                                                                                      files\n",
       "00640a9aaa0c40e5124231ebe874bd12a202f73d  apps/frontend/i18n/en/messages.xml\\napps/front...\n",
       "00efd7cbeb89b64568b6697372c546cf4868c899  sf2/src/Dreyfus/InvoicingBundle/Resources/view...\n",
       "011b55712e153a6c7eb812cd68521153e73f9eaa  sf2/src/Dreyfus/InvoicingBundle/Controller/Pay...\n",
       "013d570b8f880e170050200316e1648b09ce06fb                                      web/.htaccess\n",
       "0153b7b208bb8fef1f5314fad939b0e412a65278  sf2/src/Dreyfus/InvoicingBundle/Resources/tran..."
      ]
     },
     "execution_count": 107,
     "metadata": {},
     "output_type": "execute_result"
    }
   ],
   "source": [
    "dfco_fc.head()"
   ]
  },
  {
   "cell_type": "code",
   "execution_count": 108,
   "metadata": {
    "collapsed": false
   },
   "outputs": [],
   "source": [
    "df_files = df_co_ti.set_index('hash').join(dfco_fc)"
   ]
  },
  {
   "cell_type": "code",
   "execution_count": 109,
   "metadata": {
    "collapsed": false
   },
   "outputs": [
    {
     "data": {
      "text/plain": [
       "(1363, 2)"
      ]
     },
     "execution_count": 109,
     "metadata": {},
     "output_type": "execute_result"
    }
   ],
   "source": [
    "df_files.shape"
   ]
  },
  {
   "cell_type": "code",
   "execution_count": 110,
   "metadata": {
    "collapsed": false
   },
   "outputs": [
    {
     "data": {
      "text/plain": [
       "(643, 2)"
      ]
     },
     "execution_count": 110,
     "metadata": {},
     "output_type": "execute_result"
    }
   ],
   "source": [
    "df_files.drop_duplicates(['ticket']).shape"
   ]
  },
  {
   "cell_type": "code",
   "execution_count": 111,
   "metadata": {
    "collapsed": false
   },
   "outputs": [
    {
     "data": {
      "text/html": [
       "<div>\n",
       "<table border=\"1\" class=\"dataframe\">\n",
       "  <thead>\n",
       "    <tr style=\"text-align: right;\">\n",
       "      <th></th>\n",
       "      <th>ticket</th>\n",
       "      <th>files</th>\n",
       "    </tr>\n",
       "    <tr>\n",
       "      <th>hash</th>\n",
       "      <th></th>\n",
       "      <th></th>\n",
       "    </tr>\n",
       "  </thead>\n",
       "  <tbody>\n",
       "    <tr>\n",
       "      <th>cb7b4dd05f1ec1d1fbe4c4699f4ee36f7e5c417c</th>\n",
       "      <td>3308</td>\n",
       "      <td>sf2/src/Dreyfus/ImportBundle/Manager/AlertInje...</td>\n",
       "    </tr>\n",
       "    <tr>\n",
       "      <th>2f11aea5a0975fad465f3ff98fd73821bba87ed3</th>\n",
       "      <td>3</td>\n",
       "      <td>dreyfus/apps/frontend/config/app.yml\\ndreyfus/...</td>\n",
       "    </tr>\n",
       "    <tr>\n",
       "      <th>de90297aa20d349f3c6934b2f2be12cc17936e7b</th>\n",
       "      <td>3180</td>\n",
       "      <td>sf2/app/DoctrineMigrations/Version201611281356...</td>\n",
       "    </tr>\n",
       "    <tr>\n",
       "      <th>e5ccb4295f6f06e4fa6dafdd0db2154e973234e2</th>\n",
       "      <td>1629</td>\n",
       "      <td>sf2/src/Dreyfus/InvoicingBundle/Tests/Handler/...</td>\n",
       "    </tr>\n",
       "    <tr>\n",
       "      <th>183b46e2069e59eb4ae3121541ff890d52f9b81a</th>\n",
       "      <td>679</td>\n",
       "      <td>sf2/src/Dreyfus/InvoicingBundle/Entity/Counter...</td>\n",
       "    </tr>\n",
       "  </tbody>\n",
       "</table>\n",
       "</div>"
      ],
      "text/plain": [
       "                                         ticket  \\\n",
       "hash                                              \n",
       "cb7b4dd05f1ec1d1fbe4c4699f4ee36f7e5c417c   3308   \n",
       "2f11aea5a0975fad465f3ff98fd73821bba87ed3      3   \n",
       "de90297aa20d349f3c6934b2f2be12cc17936e7b   3180   \n",
       "e5ccb4295f6f06e4fa6dafdd0db2154e973234e2   1629   \n",
       "183b46e2069e59eb4ae3121541ff890d52f9b81a    679   \n",
       "\n",
       "                                                                                      files  \n",
       "hash                                                                                         \n",
       "cb7b4dd05f1ec1d1fbe4c4699f4ee36f7e5c417c  sf2/src/Dreyfus/ImportBundle/Manager/AlertInje...  \n",
       "2f11aea5a0975fad465f3ff98fd73821bba87ed3  dreyfus/apps/frontend/config/app.yml\\ndreyfus/...  \n",
       "de90297aa20d349f3c6934b2f2be12cc17936e7b  sf2/app/DoctrineMigrations/Version201611281356...  \n",
       "e5ccb4295f6f06e4fa6dafdd0db2154e973234e2  sf2/src/Dreyfus/InvoicingBundle/Tests/Handler/...  \n",
       "183b46e2069e59eb4ae3121541ff890d52f9b81a  sf2/src/Dreyfus/InvoicingBundle/Entity/Counter...  "
      ]
     },
     "execution_count": 111,
     "metadata": {},
     "output_type": "execute_result"
    }
   ],
   "source": [
    "df_files.head()"
   ]
  },
  {
   "cell_type": "code",
   "execution_count": 112,
   "metadata": {
    "collapsed": false
   },
   "outputs": [
    {
     "data": {
      "text/plain": [
       "(1363, 2)"
      ]
     },
     "execution_count": 112,
     "metadata": {},
     "output_type": "execute_result"
    }
   ],
   "source": [
    "df_files.dropna(subset = ['ticket']).shape"
   ]
  },
  {
   "cell_type": "code",
   "execution_count": 113,
   "metadata": {
    "collapsed": true
   },
   "outputs": [],
   "source": [
    "import numpy as np"
   ]
  },
  {
   "cell_type": "code",
   "execution_count": 114,
   "metadata": {
    "collapsed": false,
    "scrolled": true
   },
   "outputs": [
    {
     "data": {
      "text/html": [
       "<div>\n",
       "<table border=\"1\" class=\"dataframe\">\n",
       "  <thead>\n",
       "    <tr style=\"text-align: right;\">\n",
       "      <th></th>\n",
       "      <th>files</th>\n",
       "    </tr>\n",
       "    <tr>\n",
       "      <th>ticket</th>\n",
       "      <th></th>\n",
       "    </tr>\n",
       "  </thead>\n",
       "  <tbody>\n",
       "    <tr>\n",
       "      <th>33</th>\n",
       "      <td>15</td>\n",
       "    </tr>\n",
       "    <tr>\n",
       "      <th>608</th>\n",
       "      <td>13</td>\n",
       "    </tr>\n",
       "    <tr>\n",
       "      <th>1239</th>\n",
       "      <td>12</td>\n",
       "    </tr>\n",
       "    <tr>\n",
       "      <th>410</th>\n",
       "      <td>12</td>\n",
       "    </tr>\n",
       "    <tr>\n",
       "      <th>93</th>\n",
       "      <td>11</td>\n",
       "    </tr>\n",
       "    <tr>\n",
       "      <th>1443</th>\n",
       "      <td>10</td>\n",
       "    </tr>\n",
       "    <tr>\n",
       "      <th>1561</th>\n",
       "      <td>10</td>\n",
       "    </tr>\n",
       "    <tr>\n",
       "      <th>192</th>\n",
       "      <td>10</td>\n",
       "    </tr>\n",
       "    <tr>\n",
       "      <th>1116</th>\n",
       "      <td>9</td>\n",
       "    </tr>\n",
       "    <tr>\n",
       "      <th>408</th>\n",
       "      <td>9</td>\n",
       "    </tr>\n",
       "    <tr>\n",
       "      <th>523</th>\n",
       "      <td>9</td>\n",
       "    </tr>\n",
       "    <tr>\n",
       "      <th>1555</th>\n",
       "      <td>8</td>\n",
       "    </tr>\n",
       "    <tr>\n",
       "      <th>41</th>\n",
       "      <td>8</td>\n",
       "    </tr>\n",
       "    <tr>\n",
       "      <th>67</th>\n",
       "      <td>8</td>\n",
       "    </tr>\n",
       "    <tr>\n",
       "      <th>564</th>\n",
       "      <td>7</td>\n",
       "    </tr>\n",
       "    <tr>\n",
       "      <th>471</th>\n",
       "      <td>7</td>\n",
       "    </tr>\n",
       "    <tr>\n",
       "      <th>1629</th>\n",
       "      <td>7</td>\n",
       "    </tr>\n",
       "    <tr>\n",
       "      <th>3</th>\n",
       "      <td>7</td>\n",
       "    </tr>\n",
       "    <tr>\n",
       "      <th>1696</th>\n",
       "      <td>7</td>\n",
       "    </tr>\n",
       "    <tr>\n",
       "      <th>243</th>\n",
       "      <td>7</td>\n",
       "    </tr>\n",
       "    <tr>\n",
       "      <th>1356</th>\n",
       "      <td>7</td>\n",
       "    </tr>\n",
       "    <tr>\n",
       "      <th>1700</th>\n",
       "      <td>7</td>\n",
       "    </tr>\n",
       "    <tr>\n",
       "      <th>1395</th>\n",
       "      <td>7</td>\n",
       "    </tr>\n",
       "    <tr>\n",
       "      <th>2507</th>\n",
       "      <td>7</td>\n",
       "    </tr>\n",
       "    <tr>\n",
       "      <th>1419</th>\n",
       "      <td>6</td>\n",
       "    </tr>\n",
       "    <tr>\n",
       "      <th>1454</th>\n",
       "      <td>6</td>\n",
       "    </tr>\n",
       "    <tr>\n",
       "      <th>721</th>\n",
       "      <td>6</td>\n",
       "    </tr>\n",
       "    <tr>\n",
       "      <th>800</th>\n",
       "      <td>6</td>\n",
       "    </tr>\n",
       "    <tr>\n",
       "      <th>1330</th>\n",
       "      <td>6</td>\n",
       "    </tr>\n",
       "    <tr>\n",
       "      <th>765</th>\n",
       "      <td>6</td>\n",
       "    </tr>\n",
       "    <tr>\n",
       "      <th>...</th>\n",
       "      <td>...</td>\n",
       "    </tr>\n",
       "    <tr>\n",
       "      <th>1494</th>\n",
       "      <td>1</td>\n",
       "    </tr>\n",
       "    <tr>\n",
       "      <th>1640</th>\n",
       "      <td>1</td>\n",
       "    </tr>\n",
       "    <tr>\n",
       "      <th>1646</th>\n",
       "      <td>1</td>\n",
       "    </tr>\n",
       "    <tr>\n",
       "      <th>2503</th>\n",
       "      <td>1</td>\n",
       "    </tr>\n",
       "    <tr>\n",
       "      <th>221</th>\n",
       "      <td>1</td>\n",
       "    </tr>\n",
       "    <tr>\n",
       "      <th>2502</th>\n",
       "      <td>1</td>\n",
       "    </tr>\n",
       "    <tr>\n",
       "      <th>2501</th>\n",
       "      <td>1</td>\n",
       "    </tr>\n",
       "    <tr>\n",
       "      <th>25</th>\n",
       "      <td>1</td>\n",
       "    </tr>\n",
       "    <tr>\n",
       "      <th>2496</th>\n",
       "      <td>1</td>\n",
       "    </tr>\n",
       "    <tr>\n",
       "      <th>2482</th>\n",
       "      <td>1</td>\n",
       "    </tr>\n",
       "    <tr>\n",
       "      <th>234</th>\n",
       "      <td>1</td>\n",
       "    </tr>\n",
       "    <tr>\n",
       "      <th>232</th>\n",
       "      <td>1</td>\n",
       "    </tr>\n",
       "    <tr>\n",
       "      <th>231</th>\n",
       "      <td>1</td>\n",
       "    </tr>\n",
       "    <tr>\n",
       "      <th>2255</th>\n",
       "      <td>1</td>\n",
       "    </tr>\n",
       "    <tr>\n",
       "      <th>2254</th>\n",
       "      <td>1</td>\n",
       "    </tr>\n",
       "    <tr>\n",
       "      <th>222</th>\n",
       "      <td>1</td>\n",
       "    </tr>\n",
       "    <tr>\n",
       "      <th>196</th>\n",
       "      <td>1</td>\n",
       "    </tr>\n",
       "    <tr>\n",
       "      <th>1650</th>\n",
       "      <td>1</td>\n",
       "    </tr>\n",
       "    <tr>\n",
       "      <th>189</th>\n",
       "      <td>1</td>\n",
       "    </tr>\n",
       "    <tr>\n",
       "      <th>187</th>\n",
       "      <td>1</td>\n",
       "    </tr>\n",
       "    <tr>\n",
       "      <th>1709</th>\n",
       "      <td>1</td>\n",
       "    </tr>\n",
       "    <tr>\n",
       "      <th>1704</th>\n",
       "      <td>1</td>\n",
       "    </tr>\n",
       "    <tr>\n",
       "      <th>1699</th>\n",
       "      <td>1</td>\n",
       "    </tr>\n",
       "    <tr>\n",
       "      <th>1679</th>\n",
       "      <td>1</td>\n",
       "    </tr>\n",
       "    <tr>\n",
       "      <th>1676</th>\n",
       "      <td>1</td>\n",
       "    </tr>\n",
       "    <tr>\n",
       "      <th>1675</th>\n",
       "      <td>1</td>\n",
       "    </tr>\n",
       "    <tr>\n",
       "      <th>1656</th>\n",
       "      <td>1</td>\n",
       "    </tr>\n",
       "    <tr>\n",
       "      <th>1655</th>\n",
       "      <td>1</td>\n",
       "    </tr>\n",
       "    <tr>\n",
       "      <th>1651</th>\n",
       "      <td>1</td>\n",
       "    </tr>\n",
       "    <tr>\n",
       "      <th>990</th>\n",
       "      <td>1</td>\n",
       "    </tr>\n",
       "  </tbody>\n",
       "</table>\n",
       "<p>643 rows × 1 columns</p>\n",
       "</div>"
      ],
      "text/plain": [
       "        files\n",
       "ticket       \n",
       "33         15\n",
       "608        13\n",
       "1239       12\n",
       "410        12\n",
       "93         11\n",
       "1443       10\n",
       "1561       10\n",
       "192        10\n",
       "1116        9\n",
       "408         9\n",
       "523         9\n",
       "1555        8\n",
       "41          8\n",
       "67          8\n",
       "564         7\n",
       "471         7\n",
       "1629        7\n",
       "3           7\n",
       "1696        7\n",
       "243         7\n",
       "1356        7\n",
       "1700        7\n",
       "1395        7\n",
       "2507        7\n",
       "1419        6\n",
       "1454        6\n",
       "721         6\n",
       "800         6\n",
       "1330        6\n",
       "765         6\n",
       "...       ...\n",
       "1494        1\n",
       "1640        1\n",
       "1646        1\n",
       "2503        1\n",
       "221         1\n",
       "2502        1\n",
       "2501        1\n",
       "25          1\n",
       "2496        1\n",
       "2482        1\n",
       "234         1\n",
       "232         1\n",
       "231         1\n",
       "2255        1\n",
       "2254        1\n",
       "222         1\n",
       "196         1\n",
       "1650        1\n",
       "189         1\n",
       "187         1\n",
       "1709        1\n",
       "1704        1\n",
       "1699        1\n",
       "1679        1\n",
       "1676        1\n",
       "1675        1\n",
       "1656        1\n",
       "1655        1\n",
       "1651        1\n",
       "990         1\n",
       "\n",
       "[643 rows x 1 columns]"
      ]
     },
     "execution_count": 114,
     "metadata": {},
     "output_type": "execute_result"
    }
   ],
   "source": [
    "df_files.groupby('ticket').count().sort_values('files', ascending = 0)"
   ]
  },
  {
   "cell_type": "code",
   "execution_count": 115,
   "metadata": {
    "collapsed": false,
    "scrolled": true,
    "slideshow": {
     "slide_type": "-"
    }
   },
   "outputs": [],
   "source": [
    "dffoo = df_files.groupby('ticket').agg({'files': lambda x:list(x)})"
   ]
  },
  {
   "cell_type": "code",
   "execution_count": 116,
   "metadata": {
    "collapsed": false,
    "scrolled": true
   },
   "outputs": [],
   "source": [
    "df_tickets.idShort =df_tickets.idShort.map(str)\n",
    "df_tickets = df_tickets.join(dffoo, on='idShort')"
   ]
  },
  {
   "cell_type": "code",
   "execution_count": 125,
   "metadata": {
    "collapsed": false
   },
   "outputs": [
    {
     "ename": "ZeroDivisionError",
     "evalue": "integer division or modulo by zero",
     "output_type": "error",
     "traceback": [
      "\u001b[0;31m---------------------------------------------------------------------------\u001b[0m",
      "\u001b[0;31mZeroDivisionError\u001b[0m                         Traceback (most recent call last)",
      "\u001b[0;32m<ipython-input-125-43f32eee7feb>\u001b[0m in \u001b[0;36m<module>\u001b[0;34m()\u001b[0m\n\u001b[0;32m----> 1\u001b[0;31m \u001b[0ma\u001b[0m \u001b[0;34m=\u001b[0m \u001b[0;36m1\u001b[0m\u001b[0;34m/\u001b[0m\u001b[0;36m0\u001b[0m\u001b[0;34m\u001b[0m\u001b[0m\n\u001b[0m",
      "\u001b[0;31mZeroDivisionError\u001b[0m: integer division or modulo by zero"
     ]
    }
   ],
   "source": [
    "a = 1/0\n"
   ]
  },
  {
   "cell_type": "code",
   "execution_count": 127,
   "metadata": {
    "collapsed": false
   },
   "outputs": [],
   "source": [
    "a  = float('nan')"
   ]
  },
  {
   "cell_type": "code",
   "execution_count": 130,
   "metadata": {
    "collapsed": false
   },
   "outputs": [
    {
     "data": {
      "text/plain": [
       "True"
      ]
     },
     "execution_count": 130,
     "metadata": {},
     "output_type": "execute_result"
    }
   ],
   "source": [
    "np.isnan(a)"
   ]
  },
  {
   "cell_type": "code",
   "execution_count": 129,
   "metadata": {
    "collapsed": false
   },
   "outputs": [
    {
     "ename": "AttributeError",
     "evalue": "'float' object has no attribute 'isnan'",
     "output_type": "error",
     "traceback": [
      "\u001b[0;31m---------------------------------------------------------------------------\u001b[0m",
      "\u001b[0;31mAttributeError\u001b[0m                            Traceback (most recent call last)",
      "\u001b[0;32m<ipython-input-129-b40b17af6dd7>\u001b[0m in \u001b[0;36m<module>\u001b[0;34m()\u001b[0m\n\u001b[0;32m----> 1\u001b[0;31m \u001b[0;32mif\u001b[0m \u001b[0ma\u001b[0m\u001b[0;34m.\u001b[0m\u001b[0misnan\u001b[0m\u001b[0;34m(\u001b[0m\u001b[0;34m)\u001b[0m\u001b[0;34m:\u001b[0m \u001b[0;32mprint\u001b[0m \u001b[0;34m'ocucou'\u001b[0m\u001b[0;34m\u001b[0m\u001b[0m\n\u001b[0m",
      "\u001b[0;31mAttributeError\u001b[0m: 'float' object has no attribute 'isnan'"
     ]
    }
   ],
   "source": [
    "if a.isnan(): print 'ocucou'"
   ]
  },
  {
   "cell_type": "code",
   "execution_count": 147,
   "metadata": {
    "collapsed": false
   },
   "outputs": [
    {
     "data": {
      "text/plain": [
       "Index([              u'attachments',        u'badges.attachments',\n",
       "               u'badges.checkItems',  u'badges.checkItemsChecked',\n",
       "                 u'badges.comments',        u'badges.description',\n",
       "                      u'badges.due',        u'badges.dueComplete',\n",
       "                  u'badges.fogbugz',         u'badges.subscribed',\n",
       "       u'badges.viewingMemberVoted',              u'badges.votes',\n",
       "                 u'checkItemStates',                    u'closed',\n",
       "                u'dateLastActivity',                      u'desc',\n",
       "                        u'descData',                       u'due',\n",
       "                     u'dueComplete',                     u'email',\n",
       "                              u'id',         u'idAttachmentCover',\n",
       "                         u'idBoard',              u'idChecklists',\n",
       "                        u'idLabels',                    u'idList',\n",
       "                       u'idMembers',            u'idMembersVoted',\n",
       "                         u'idShort',                    u'labels',\n",
       "           u'manualCoverAttachment',                      u'name',\n",
       "                      u'pluginData',                       u'pos',\n",
       "                       u'shortLink',                  u'shortUrl',\n",
       "                      u'subscribed',                       u'url',\n",
       "                      u'is_default',                     u'estim',\n",
       "                       u'post_eval',                       u'one',\n",
       "                        u'ticketnb',                 u'defaultnb',\n",
       "                           u'files',            u'nbfileschanged'],\n",
       "      dtype='object')"
      ]
     },
     "execution_count": 147,
     "metadata": {},
     "output_type": "execute_result"
    }
   ],
   "source": [
    "df_tickets.columns"
   ]
  },
  {
   "cell_type": "code",
   "execution_count": 144,
   "metadata": {
    "collapsed": false
   },
   "outputs": [],
   "source": [
    "import seaborn as sns"
   ]
  },
  {
   "cell_type": "code",
   "execution_count": 153,
   "metadata": {
    "collapsed": false
   },
   "outputs": [
    {
     "data": {
      "text/plain": [
       "(202, 46)"
      ]
     },
     "execution_count": 153,
     "metadata": {},
     "output_type": "execute_result"
    }
   ],
   "source": [
    "df_tickets.shape"
   ]
  },
  {
   "cell_type": "code",
   "execution_count": 154,
   "metadata": {
    "collapsed": true
   },
   "outputs": [],
   "source": [
    "df_tickets.is_default.fillna(0, inplace=1)"
   ]
  },
  {
   "cell_type": "code",
   "execution_count": null,
   "metadata": {
    "collapsed": true
   },
   "outputs": [],
   "source": []
  },
  {
   "cell_type": "code",
   "execution_count": 162,
   "metadata": {
    "collapsed": false
   },
   "outputs": [
    {
     "data": {
      "text/plain": [
       "<matplotlib.axes._subplots.AxesSubplot at 0x7f851f5c6190>"
      ]
     },
     "execution_count": 162,
     "metadata": {},
     "output_type": "execute_result"
    },
    {
     "data": {
      "image/png": "[encoded data removed]",
      "text/plain": [
       "<matplotlib.figure.Figure at 0x7f851f5c2950>"
      ]
     },
     "metadata": {},
     "output_type": "display_data"
    }
   ],
   "source": [
    "(df_tickets[df_tickets.is_default].groupby(['nbfileschanged']).size()/\\\n",
    "df_tickets.groupby(['nbfileschanged']).size()).fillna(0).plot(kind='bar')"
   ]
  },
  {
   "cell_type": "code",
   "execution_count": 185,
   "metadata": {
    "collapsed": false
   },
   "outputs": [],
   "source": [
    "foobar = df_tickets[['nbfileschanged', 'is_default', u'one']]\\\n",
    ".pivot_table(index=['nbfileschanged'], columns=[u'is_default'])['one'].fillna(0)"
   ]
  },
  {
   "cell_type": "code",
   "execution_count": 186,
   "metadata": {
    "collapsed": true
   },
   "outputs": [],
   "source": [
    "foobar.columns = ['T', 'F']"
   ]
  },
  {
   "cell_type": "code",
   "execution_count": 201,
   "metadata": {
    "collapsed": false
   },
   "outputs": [
    {
     "data": {
      "text/plain": [
       "<matplotlib.axes._subplots.AxesSubplot at 0x7f851e6719d0>"
      ]
     },
     "execution_count": 201,
     "metadata": {},
     "output_type": "execute_result"
    },
    {
     "data": {
      "image/png": "[encoded data removed]",
      "text/plain": [
       "<matplotlib.figure.Figure at 0x7f851e5d4f10>"
      ]
     },
     "metadata": {},
     "output_type": "display_data"
    }
   ],
   "source": [
    "df_tickets.groupby(['nbfileschanged']).size().plot(kind='bar', ylim=(0,15))"
   ]
  },
  {
   "cell_type": "code",
   "execution_count": 142,
   "metadata": {
    "collapsed": false
   },
   "outputs": [
    {
     "data": {
      "text/plain": [
       "840    1\n",
       "841   -1\n",
       "850    3\n",
       "851    1\n",
       "857   -1\n",
       "Name: nbfileschanged, dtype: int64"
      ]
     },
     "execution_count": 142,
     "metadata": {},
     "output_type": "execute_result"
    }
   ],
   "source": [
    "df_tickets.nbfileschanged.head()"
   ]
  },
  {
   "cell_type": "code",
   "execution_count": 133,
   "metadata": {
    "collapsed": true
   },
   "outputs": [],
   "source": [
    "df_tickets.files.fillna(-1, inplace=True)"
   ]
  },
  {
   "cell_type": "code",
   "execution_count": 141,
   "metadata": {
    "collapsed": false
   },
   "outputs": [],
   "source": [
    "df_tickets['nbfileschanged'] =df_tickets.files.map(lambda ff:len([xx for x in ff for xx in x.splitlines()]) if not ff==-1 else -1)"
   ]
  },
  {
   "cell_type": "code",
   "execution_count": 140,
   "metadata": {
    "collapsed": false
   },
   "outputs": [
    {
     "ename": "SyntaxError",
     "evalue": "invalid syntax (<ipython-input-140-36aaef5486db>, line 1)",
     "output_type": "error",
     "traceback": [
      "\u001b[0;36m  File \u001b[0;32m\"<ipython-input-140-36aaef5486db>\"\u001b[0;36m, line \u001b[0;32m1\u001b[0m\n\u001b[0;31m    [len([xx for x in ff for xx in x.splitlines()] if not ff==-1 else -1 for ff in df_tickets.files.values]\u001b[0m\n\u001b[0m                                                                                                          ^\u001b[0m\n\u001b[0;31mSyntaxError\u001b[0m\u001b[0;31m:\u001b[0m invalid syntax\n"
     ]
    }
   ],
   "source": [
    "[len([xx for x in ff for xx in x.splitlines()]) if not ff==-1 else -1 for ff in df_tickets.files.values]"
   ]
  },
  {
   "cell_type": "code",
   "execution_count": 117,
   "metadata": {
    "collapsed": false
   },
   "outputs": [],
   "source": [
    "from operator import getitem"
   ]
  },
  {
   "cell_type": "code",
   "execution_count": 170,
   "metadata": {
    "collapsed": false
   },
   "outputs": [
    {
     "data": {
      "text/plain": [
       "[u'dreyfus/sf2/src/Dreyfus/IPWebBundle/Resources/public/css/sf_admin.css',\n",
       " u'dreyfus/sf2/src/Dreyfus/InvoicingBundle/Entity/DocumentType.php',\n",
       " u'dreyfus/sf2/src/Dreyfus/InvoicingBundle/Form/Type/DocumentType.php',\n",
       " u'dreyfus/sf2/src/Dreyfus/InvoicingBundle/Resources/translations/invoicing.en.xliff',\n",
       " u'dreyfus/sf2/src/Dreyfus/InvoicingBundle/Resources/translations/invoicing.fr.xliff',\n",
       " u'dreyfus/sf2/src/Dreyfus/InvoicingBundle/Resources/views/Document/new.html.twig',\n",
       " u'dreyfus/sf2/src/Dreyfus/InvoicingBundle/Resources/views/Document/show.html.twig',\n",
       " u'dreyfus/sf2/src/Dreyfus/InvoicingBundle/Resources/views/Form/layout.html.twig',\n",
       " u'dreyfus/sf2/src/Dreyfus/InvoicingBundle/Entity/Document.php',\n",
       " u'dreyfus/sf2/app/DoctrineMigrations/Version20131030171216.php',\n",
       " u'dreyfus/sf2/src/Dreyfus/InvoicingBundle/Entity/Document.php',\n",
       " u'dreyfus/sf2/src/Dreyfus/InvoicingBundle/Form/Type/DocumentType.php',\n",
       " u'dreyfus/sf2/app/AppKernel.php',\n",
       " u'dreyfus/sf2/composer.json',\n",
       " u'dreyfus/sf2/composer.lock',\n",
       " u'dreyfus/sf2/app/DoctrineMigrations/Version20131030120851.php',\n",
       " u'dreyfus/sf2/src/Dreyfus/InvoicingBundle/DataFixtures/Initialize/DocumentType/LoadDocumentTypeData.php',\n",
       " u'dreyfus/sf2/src/Dreyfus/InvoicingBundle/Entity/DocumentType.php',\n",
       " u'dreyfus/sf2/src/Dreyfus/InvoicingBundle/Entity/Translation/DocumentTypeTranslation.php',\n",
       " u'dreyfus/sf2/src/Dreyfus/InvoicingBundle/DataFixtures/Initialize/DocumentType/LoadDocumentTypeData.php']"
      ]
     },
     "execution_count": 170,
     "metadata": {},
     "output_type": "execute_result"
    }
   ],
   "source": [
    "[xx for x in dffoo.head().values[0][0] for xx in x.splitlines()]"
   ]
  },
  {
   "cell_type": "code",
   "execution_count": null,
   "metadata": {
    "collapsed": true
   },
   "outputs": [],
   "source": []
  },
  {
   "cell_type": "code",
   "execution_count": 171,
   "metadata": {
    "collapsed": false
   },
   "outputs": [],
   "source": [
    "dffoo.files = dffoo.files.map(lambda y: [xx for x in y  for xx in x.splitlines()])"
   ]
  },
  {
   "cell_type": "code",
   "execution_count": 172,
   "metadata": {
    "collapsed": false
   },
   "outputs": [
    {
     "name": "stdout",
     "output_type": "stream",
     "text": [
      "Variable           Type                          Data/Info\n",
      "----------------------------------------------------------\n",
      "HTML               type                          <class 'IPython.core.display.HTML'>\n",
      "Template           _TemplateMetaclass            <class 'string.Template'>\n",
      "arbo               dict                          n=2\n",
      "arbo_dict          list                          n=3683\n",
      "arr_path           list                          n=3693\n",
      "bac_rouge          DataFrame                                              <...>n\\n[58 rows x 38 columns]\n",
      "commits_file       dict                          n=1363\n",
      "commits_tickets    dict                          n=1363\n",
      "cropIfIsInSeries   function                      <function cropIfIsInSeries at 0x7f6b812982a8>\n",
      "d                  dict                          n=2\n",
      "defaults_ids       set                           set([u'561bb2effb396fe706<...>7cb1dbced82109ffc74cf6'])\n",
      "df_cards           DataFrame                                              <...>n[1062 rows x 38 columns]\n",
      "df_co_ti           DataFrame                                              <...>\\n[1363 rows x 2 columns]\n",
      "df_files           DataFrame                                              <...>\\n[1363 rows x 2 columns]\n",
      "df_tickets         DataFrame                                              <...>\\n[227 rows x 44 columns]\n",
      "dfco_fc            DataFrame                                              <...>\\n[1363 rows x 1 columns]\n",
      "dffoo              DataFrame                                              <...>n\\n[643 rows x 1 columns]\n",
      "dict_drey          dict                          n=29\n",
      "end_nodes          list                          n=2815\n",
      "f                  file                          <closed file 'commit_hash<...>de 'r' at 0x7f6b80da2390>\n",
      "filter_fn          function                      <function filter_fn at 0x7f6b80dc58c0>\n",
      "foo                list                          n=1\n",
      "getitem            builtin_function_or_method    <built-in function getitem>\n",
      "hier_dict          dict                          n=2\n",
      "html_template      Template                      <string.Template object at 0x7f6b812150d0>\n",
      "id_list            list                          n=3683\n",
      "initDIct           function                      <function initDIct at 0x7f6b8149d5f0>\n",
      "json               module                        <module 'json' from '/usr<...>on2.7/json/__init__.pyc'>\n",
      "json_normalize     function                      <function json_normalize at 0x7f6b87482050>\n",
      "k                  unicode                       root.BanniereIPwebSmall\n",
      "l                  dict                          n=6\n",
      "list_done          list                          n=14\n",
      "np                 module                        <module 'numpy' from '/us<...>ages/numpy/__init__.pyc'>\n",
      "os                 module                        <module 'os' from '/usr/lib/python2.7/os.pyc'>\n",
      "path_series        Series                        0                        <...>PwebSmall,\\ndtype: object\n",
      "pd                 module                        <module 'pandas' from '/u<...>ges/pandas/__init__.pyc'>\n",
      "plt                module                        <module 'matplotlib.pyplo<...>s/matplotlib/pyplot.pyc'>\n",
      "remove_0           function                      <function remove_0 at 0x7f6b80dc5938>\n",
      "test               unicode                       web/css/dreyfus.css\n",
      "viz                str                           \\n<style type=\"text/css\"><...>);\\n\\n}\\n});\\n</script>\\n\n",
      "x                  unicode                       dreyfus/sf2/src/Dreyfus/I<...>/LoadDocumentTypeData.php\n",
      "xx                 unicode                       dreyfus/sf2/src/Dreyfus/I<...>/LoadDocumentTypeData.php\n"
     ]
    }
   ],
   "source": [
    "%whos"
   ]
  },
  {
   "cell_type": "code",
   "execution_count": 173,
   "metadata": {
    "collapsed": false
   },
   "outputs": [],
   "source": [
    "test = dffoo.files[0][0]"
   ]
  },
  {
   "cell_type": "code",
   "execution_count": 174,
   "metadata": {
    "collapsed": false
   },
   "outputs": [
    {
     "data": {
      "text/plain": [
       "[u'dreyfus',\n",
       " u'sf2',\n",
       " u'src',\n",
       " u'Dreyfus',\n",
       " u'IPWebBundle',\n",
       " u'Resources',\n",
       " u'public',\n",
       " u'css',\n",
       " u'sf_admin.css']"
      ]
     },
     "execution_count": 174,
     "metadata": {},
     "output_type": "execute_result"
    }
   ],
   "source": [
    "test.split('/')"
   ]
  },
  {
   "cell_type": "code",
   "execution_count": null,
   "metadata": {
    "collapsed": false
   },
   "outputs": [],
   "source": []
  },
  {
   "cell_type": "code",
   "execution_count": 246,
   "metadata": {
    "collapsed": false
   },
   "outputs": [],
   "source": [
    "hier_dict = initDIct()\n",
    "\n",
    "for foo in df_tickets.files.values:\n",
    "    if foo==-1: continue\n",
    "    for test in foo:\n",
    "        d = hier_dict\n",
    "        try: \n",
    "            for f in test.split('/')[1:]:\n",
    "                f= f.split('.')[0]\n",
    "                d = filter(lambda x:x['name']==f, d['children'])[0]\n",
    "            d['size']+=1\n",
    "        except:\n",
    "            pass\n",
    "\n",
    "def filter_fn(dd):\n",
    "    return not (( dd.has_key('size') and dd['size']==0) or (dd.has_key('children') and len(dd['children'])==0))\n",
    "\n",
    "\n",
    "def remove_0(d):\n",
    "    if d.has_key('size'): return\n",
    "    if d.has_key('children'):\n",
    "        for dd in d['children']: \n",
    "            remove_0(dd)\n",
    "        d['children'] = filter(filter_fn, d['children'])\n",
    "            \n",
    "\n",
    "remove_0(hier_dict)"
   ]
  },
  {
   "cell_type": "code",
   "execution_count": 192,
   "metadata": {
    "collapsed": false
   },
   "outputs": [
    {
     "data": {
      "text/plain": [
       "{'children': [{'children': [{'children': [{'children': [{'name': u'app',\n",
       "         'size': 1},\n",
       "        {'name': u'routing', 'size': 1}],\n",
       "       'name': u'config'},\n",
       "      {'children': [{'children': [{'name': u'messages', 'size': 2}],\n",
       "         'name': u'en'}],\n",
       "       'name': u'i18n'},\n",
       "      {'children': [{'name': u'_menuPrincipal', 'size': 1}],\n",
       "       'name': u'templates'},\n",
       "      {'children': [{'children': [{'children': [{'name': u'_form_fieldset',\n",
       "             'size': 1},\n",
       "            {'name': u'_filters', 'size': 1}],\n",
       "           'name': u'templates'}],\n",
       "         'name': u'surveillancesTm'},\n",
       "        {'children': [{'children': [{'name': u'_filters', 'size': 1}],\n",
       "           'name': u'templates'}],\n",
       "         'name': u'stats'},\n",
       "        {'children': [{'children': [{'name': u'_filters', 'size': 1}],\n",
       "           'name': u'templates'}],\n",
       "         'name': u'alertesSuivi'},\n",
       "        {'children': [{'children': [{'name': u'_filters', 'size': 1}],\n",
       "           'name': u'templates'}],\n",
       "         'name': u'nomsDomaines'},\n",
       "        {'children': [{'children': [{'name': u'_filters', 'size': 1}],\n",
       "           'name': u'templates'}],\n",
       "         'name': u'familles'},\n",
       "        {'children': [{'children': [{'name': u'_form_fieldset', 'size': 1}],\n",
       "           'name': u'templates'}],\n",
       "         'name': u'alertes'},\n",
       "        {'children': [{'children': [{'name': u'_filters', 'size': 1}],\n",
       "           'name': u'templates'}],\n",
       "         'name': u'regles'},\n",
       "        {'children': [{'children': [{'name': u'_filters', 'size': 1}],\n",
       "           'name': u'templates'}],\n",
       "         'name': u'droitsSurveillances'},\n",
       "        {'children': [{'children': [{'name': u'_filters', 'size': 1}],\n",
       "           'name': u'templates'}],\n",
       "         'name': u'limitesSurveillances'},\n",
       "        {'children': [{'children': [{'name': u'_list_champs_bloc_general',\n",
       "             'size': 1}],\n",
       "           'name': u'templates'}],\n",
       "         'name': u'dossiers'}],\n",
       "       'name': u'modules'}],\n",
       "     'name': u'frontend'}],\n",
       "   'name': u'apps'},\n",
       "  {'name': u'composer', 'size': 23},\n",
       "  {'children': [{'children': [{'children': [{'children': [{'name': u'DreyfusBaseBundle',\n",
       "           'size': 1},\n",
       "          {'children': [{'name': u'Address', 'size': 2}], 'name': u'Entity'},\n",
       "          {'children': [{'children': [{'name': u'services', 'size': 1}],\n",
       "             'name': u'config'}],\n",
       "           'name': u'Resources'},\n",
       "          {'children': [{'name': u'DreyfusBaseExtension', 'size': 1},\n",
       "            {'name': u'Configuration', 'size': 1}],\n",
       "           'name': u'DependencyInjection'}],\n",
       "         'name': u'BaseBundle'},\n",
       "        {'children': [{'children': [{'children': [{'name': u'DocumentCreationType',\n",
       "               'size': 3}],\n",
       "             'name': u'Type'}],\n",
       "           'name': u'Form'},\n",
       "          {'children': [{'name': u'VatType', 'size': 2},\n",
       "            {'name': u'ProfileType', 'size': 2},\n",
       "            {'name': u'Profile', 'size': 2},\n",
       "            {'name': u'DocumentType', 'size': 3},\n",
       "            {'name': u'InvoicingProfile', 'size': 6},\n",
       "            {'name': u'Document', 'size': 11},\n",
       "            {'children': [{'name': u'VatTypeTranslation', 'size': 1},\n",
       "              {'name': u'DocumentTypeTranslation', 'size': 2}],\n",
       "             'name': u'Translation'},\n",
       "            {'name': u'Address', 'size': 1}],\n",
       "           'name': u'Entity'},\n",
       "          {'children': [{'name': u'DocumentController', 'size': 9},\n",
       "            {'name': u'InvoicingProfileController', 'size': 1}],\n",
       "           'name': u'Controller'},\n",
       "          {'children': [{'children': [{'name': u'services', 'size': 2}],\n",
       "             'name': u'config'}],\n",
       "           'name': u'Resources'},\n",
       "          {'children': [{'children': [{'children': [{'name': u'LoadVatTypeData',\n",
       "                 'size': 1}],\n",
       "               'name': u'VatType'},\n",
       "              {'children': [{'name': u'LoadDocumentTypeData', 'size': 2}],\n",
       "               'name': u'DocumentType'}],\n",
       "             'name': u'Initialize'}],\n",
       "           'name': u'DataFixtures'},\n",
       "          {'children': [{'name': u'InvoicingProfileRepository', 'size': 2}],\n",
       "           'name': u'Repository'},\n",
       "          {'children': [{'name': u'Configuration', 'size': 1},\n",
       "            {'name': u'DreyfusInvoicingExtension', 'size': 1}],\n",
       "           'name': u'DependencyInjection'},\n",
       "          {'name': u'DreyfusInvoicingBundle', 'size': 1}],\n",
       "         'name': u'InvoicingBundle'},\n",
       "        {'children': [{'children': [{'children': [{'name': u'ORMQueryLoader',\n",
       "               'size': 1}],\n",
       "             'name': u'ChoiceList'}],\n",
       "           'name': u'Form'},\n",
       "          {'children': [{'children': [{'children': [{'name': u'sf_admin',\n",
       "                 'size': 1}],\n",
       "               'name': u'css'},\n",
       "              {'children': [{'name': u'autocomplete', 'size': 1}],\n",
       "               'name': u'js'}],\n",
       "             'name': u'public'}],\n",
       "           'name': u'Resources'},\n",
       "          {'children': [{'children': [{'children': [{'name': u'ContactClientFilterType',\n",
       "                 'size': 3}],\n",
       "               'name': u'Contact'}],\n",
       "             'name': u'Type'}],\n",
       "           'name': u'Filter'},\n",
       "          {'children': [{'name': u'Configuration', 'size': 1}],\n",
       "           'name': u'DependencyInjection'}],\n",
       "         'name': u'IPWebBundle'}],\n",
       "       'name': u'Dreyfus'}],\n",
       "     'name': u'src'},\n",
       "    {'children': [{'children': [{'name': u'routing', 'size': 2}],\n",
       "       'name': u'config'},\n",
       "      {'name': u'AppKernel', 'size': 3},\n",
       "      {'children': [{'name': u'Version20131030171216', 'size': 1},\n",
       "        {'name': u'Version20131107170713', 'size': 1},\n",
       "        {'name': u'Version20131105110133', 'size': 2},\n",
       "        {'name': u'Version20131030152440', 'size': 1},\n",
       "        {'name': u'Version20131108153744', 'size': 1},\n",
       "        {'name': u'Version20131028154411', 'size': 2},\n",
       "        {'name': u'Version20131030120851', 'size': 1}],\n",
       "       'name': u'DoctrineMigrations'}],\n",
       "     'name': u'app'},\n",
       "    {'name': u'composer', 'size': 2}],\n",
       "   'name': u'sf2'}],\n",
       " 'name': 'root'}"
      ]
     },
     "execution_count": 192,
     "metadata": {},
     "output_type": "execute_result"
    }
   ],
   "source": [
    "hier_dict"
   ]
  },
  {
   "cell_type": "code",
   "execution_count": null,
   "metadata": {
    "collapsed": false,
    "scrolled": true
   },
   "outputs": [],
   "source": []
  },
  {
   "cell_type": "code",
   "execution_count": 181,
   "metadata": {
    "collapsed": false
   },
   "outputs": [
    {
     "data": {
      "text/plain": [
       "[]"
      ]
     },
     "execution_count": 181,
     "metadata": {},
     "output_type": "execute_result"
    }
   ],
   "source": [
    "filter(lambda x:x['name']==f, d['children'])"
   ]
  },
  {
   "cell_type": "code",
   "execution_count": 182,
   "metadata": {
    "collapsed": false
   },
   "outputs": [
    {
     "data": {
      "text/plain": [
       "[]"
      ]
     },
     "execution_count": 182,
     "metadata": {},
     "output_type": "execute_result"
    }
   ],
   "source": [
    "map(lambda x:x['name'], hier_dict['children'])"
   ]
  },
  {
   "cell_type": "code",
   "execution_count": 183,
   "metadata": {
    "collapsed": false
   },
   "outputs": [
    {
     "data": {
      "text/plain": [
       "['name', 'children']"
      ]
     },
     "execution_count": 183,
     "metadata": {},
     "output_type": "execute_result"
    }
   ],
   "source": [
    "d.keys()"
   ]
  },
  {
   "cell_type": "code",
   "execution_count": 194,
   "metadata": {
    "collapsed": false
   },
   "outputs": [
    {
     "data": {
      "text/html": [
       "\n",
       "<style type=\"text/css\">\n",
       "\n",
       "text {\n",
       "  font-size: 11px;\n",
       "  pointer-events: none;\n",
       "}\n",
       "\n",
       "text.parent {\n",
       "  fill: #1f77b4;\n",
       "}\n",
       "\n",
       "circle {\n",
       "  fill: #ccc;\n",
       "  stroke: #999;\n",
       "  pointer-events: all;\n",
       "}\n",
       "\n",
       "circle.parent {\n",
       "  fill: #1f77b4;\n",
       "  fill-opacity: .1;\n",
       "  stroke: steelblue;\n",
       "}\n",
       "\n",
       "circle.parent:hover {\n",
       "  stroke: #ff7f0e;\n",
       "  stroke-width: .5px;\n",
       "}\n",
       "\n",
       "circle.child {\n",
       "  pointer-events: none;\n",
       "}\n",
       "\n",
       "</style>\n",
       "  <div id=\"circles\"><div/>\n",
       "\n",
       "<script type=\"text/javascript\">\n",
       "    require.config({\n",
       "        paths: {\n",
       "            d3: \"./lib/d3.min\"\n",
       "        }\n",
       "    });\n",
       "\n",
       "    require([\"d3\"], function(d3) {\n",
       "  console.log(d3);\n",
       "var w = 1280,\n",
       "    h = 800,\n",
       "    r = 720,\n",
       "    x = d3.scale.linear().range([0, r]),\n",
       "    y = d3.scale.linear().range([0, r]),\n",
       "    node,\n",
       "    root;\n",
       "\n",
       "var pack = d3.layout.pack()\n",
       "    .size([r, r])\n",
       "    .value(function(d) { return d.size; })\n",
       "\n",
       "var vis = d3.select(\"#circles\").insert(\"svg:svg\", \"h2\")\n",
       "    .attr(\"width\", w)\n",
       "    .attr(\"height\", h)\n",
       "  .append(\"svg:g\")\n",
       "    .attr(\"transform\", \"translate(\" + (w - r) / 2 + \",\" + (h - r) / 2 + \")\");\n",
       "\n",
       "  data = {\"name\": \"root\", \"children\": [{\"name\": \"apps\", \"children\": [{\"name\": \"frontend\", \"children\": [{\"name\": \"config\", \"children\": [{\"name\": \"app\", \"size\": 1}, {\"name\": \"routing\", \"size\": 1}]}, {\"name\": \"i18n\", \"children\": [{\"name\": \"en\", \"children\": [{\"name\": \"messages\", \"size\": 2}]}]}, {\"name\": \"templates\", \"children\": [{\"name\": \"_menuPrincipal\", \"size\": 1}]}, {\"name\": \"modules\", \"children\": [{\"name\": \"surveillancesTm\", \"children\": [{\"name\": \"templates\", \"children\": [{\"name\": \"_form_fieldset\", \"size\": 1}, {\"name\": \"_filters\", \"size\": 1}]}]}, {\"name\": \"stats\", \"children\": [{\"name\": \"templates\", \"children\": [{\"name\": \"_filters\", \"size\": 1}]}]}, {\"name\": \"alertesSuivi\", \"children\": [{\"name\": \"templates\", \"children\": [{\"name\": \"_filters\", \"size\": 1}]}]}, {\"name\": \"nomsDomaines\", \"children\": [{\"name\": \"templates\", \"children\": [{\"name\": \"_filters\", \"size\": 1}]}]}, {\"name\": \"familles\", \"children\": [{\"name\": \"templates\", \"children\": [{\"name\": \"_filters\", \"size\": 1}]}]}, {\"name\": \"alertes\", \"children\": [{\"name\": \"templates\", \"children\": [{\"name\": \"_form_fieldset\", \"size\": 1}]}]}, {\"name\": \"regles\", \"children\": [{\"name\": \"templates\", \"children\": [{\"name\": \"_filters\", \"size\": 1}]}]}, {\"name\": \"droitsSurveillances\", \"children\": [{\"name\": \"templates\", \"children\": [{\"name\": \"_filters\", \"size\": 1}]}]}, {\"name\": \"limitesSurveillances\", \"children\": [{\"name\": \"templates\", \"children\": [{\"name\": \"_filters\", \"size\": 1}]}]}, {\"name\": \"dossiers\", \"children\": [{\"name\": \"templates\", \"children\": [{\"name\": \"_list_champs_bloc_general\", \"size\": 1}]}]}]}]}]}, {\"name\": \"composer\", \"size\": 23}, {\"name\": \"sf2\", \"children\": [{\"name\": \"src\", \"children\": [{\"name\": \"Dreyfus\", \"children\": [{\"name\": \"BaseBundle\", \"children\": [{\"name\": \"DreyfusBaseBundle\", \"size\": 1}, {\"name\": \"Entity\", \"children\": [{\"name\": \"Address\", \"size\": 2}]}, {\"name\": \"Resources\", \"children\": [{\"name\": \"config\", \"children\": [{\"name\": \"services\", \"size\": 1}]}]}, {\"name\": \"DependencyInjection\", \"children\": [{\"name\": \"DreyfusBaseExtension\", \"size\": 1}, {\"name\": \"Configuration\", \"size\": 1}]}]}, {\"name\": \"InvoicingBundle\", \"children\": [{\"name\": \"Form\", \"children\": [{\"name\": \"Type\", \"children\": [{\"name\": \"DocumentCreationType\", \"size\": 3}]}]}, {\"name\": \"Entity\", \"children\": [{\"name\": \"VatType\", \"size\": 2}, {\"name\": \"ProfileType\", \"size\": 2}, {\"name\": \"Profile\", \"size\": 2}, {\"name\": \"DocumentType\", \"size\": 3}, {\"name\": \"InvoicingProfile\", \"size\": 6}, {\"name\": \"Document\", \"size\": 11}, {\"name\": \"Translation\", \"children\": [{\"name\": \"VatTypeTranslation\", \"size\": 1}, {\"name\": \"DocumentTypeTranslation\", \"size\": 2}]}, {\"name\": \"Address\", \"size\": 1}]}, {\"name\": \"Controller\", \"children\": [{\"name\": \"DocumentController\", \"size\": 9}, {\"name\": \"InvoicingProfileController\", \"size\": 1}]}, {\"name\": \"Resources\", \"children\": [{\"name\": \"config\", \"children\": [{\"name\": \"services\", \"size\": 2}]}]}, {\"name\": \"DataFixtures\", \"children\": [{\"name\": \"Initialize\", \"children\": [{\"name\": \"VatType\", \"children\": [{\"name\": \"LoadVatTypeData\", \"size\": 1}]}, {\"name\": \"DocumentType\", \"children\": [{\"name\": \"LoadDocumentTypeData\", \"size\": 2}]}]}]}, {\"name\": \"Repository\", \"children\": [{\"name\": \"InvoicingProfileRepository\", \"size\": 2}]}, {\"name\": \"DependencyInjection\", \"children\": [{\"name\": \"Configuration\", \"size\": 1}, {\"name\": \"DreyfusInvoicingExtension\", \"size\": 1}]}, {\"name\": \"DreyfusInvoicingBundle\", \"size\": 1}]}, {\"name\": \"IPWebBundle\", \"children\": [{\"name\": \"Form\", \"children\": [{\"name\": \"ChoiceList\", \"children\": [{\"name\": \"ORMQueryLoader\", \"size\": 1}]}]}, {\"name\": \"Resources\", \"children\": [{\"name\": \"public\", \"children\": [{\"name\": \"css\", \"children\": [{\"name\": \"sf_admin\", \"size\": 1}]}, {\"name\": \"js\", \"children\": [{\"name\": \"autocomplete\", \"size\": 1}]}]}]}, {\"name\": \"Filter\", \"children\": [{\"name\": \"Type\", \"children\": [{\"name\": \"Contact\", \"children\": [{\"name\": \"ContactClientFilterType\", \"size\": 3}]}]}]}, {\"name\": \"DependencyInjection\", \"children\": [{\"name\": \"Configuration\", \"size\": 1}]}]}]}]}, {\"name\": \"app\", \"children\": [{\"name\": \"config\", \"children\": [{\"name\": \"routing\", \"size\": 2}]}, {\"name\": \"AppKernel\", \"size\": 3}, {\"name\": \"DoctrineMigrations\", \"children\": [{\"name\": \"Version20131030171216\", \"size\": 1}, {\"name\": \"Version20131107170713\", \"size\": 1}, {\"name\": \"Version20131105110133\", \"size\": 2}, {\"name\": \"Version20131030152440\", \"size\": 1}, {\"name\": \"Version20131108153744\", \"size\": 1}, {\"name\": \"Version20131028154411\", \"size\": 2}, {\"name\": \"Version20131030120851\", \"size\": 1}]}]}, {\"name\": \"composer\", \"size\": 2}]}]};\n",
       "  node = root = data;\n",
       "\n",
       "  var nodes = pack.nodes(root);\n",
       "\n",
       "  vis.selectAll(\"circle\")\n",
       "      .data(nodes)\n",
       "    .enter().append(\"svg:circle\")\n",
       "      .attr(\"class\", function(d) { return d.children ? \"parent\" : \"child\"; })\n",
       "      .attr(\"cx\", function(d) { return d.x; })\n",
       "      .attr(\"cy\", function(d) { return d.y; })\n",
       "      .attr(\"r\", function(d) { return d.r; })\n",
       "      .on(\"click\", function(d) { return zoom(node == d ? root : d); });\n",
       "\n",
       "  vis.selectAll(\"text\")\n",
       "      .data(nodes)\n",
       "    .enter().append(\"svg:text\")\n",
       "      .attr(\"class\", function(d) { return d.children ? \"parent\" : \"child\"; })\n",
       "      .attr(\"x\", function(d) { return d.x; })\n",
       "      .attr(\"y\", function(d) { return d.y; })\n",
       "      .attr(\"dy\", \".35em\")\n",
       "      .attr(\"text-anchor\", \"middle\")\n",
       "      .style(\"opacity\", function(d) { return d.r > 20 ? 1 : 0; })\n",
       "      .text(function(d) { return d.name; });\n",
       "\n",
       "  d3.select(window).on(\"click\", function() { zoom(root); });\n",
       "\n",
       "\n",
       "function zoom(d, i) {\n",
       "  var k = r / d.r / 2;\n",
       "  x.domain([d.x - d.r, d.x + d.r]);\n",
       "  y.domain([d.y - d.r, d.y + d.r]);\n",
       "\n",
       "  var t = vis.transition()\n",
       "      .duration(d3.event.altKey ? 7500 : 750);\n",
       "\n",
       "  t.selectAll(\"circle\")\n",
       "      .attr(\"cx\", function(d) { return x(d.x); })\n",
       "      .attr(\"cy\", function(d) { return y(d.y); })\n",
       "      .attr(\"r\", function(d) { return k * d.r; });\n",
       "\n",
       "  t.selectAll(\"text\")\n",
       "      .attr(\"x\", function(d) { return x(d.x); })\n",
       "      .attr(\"y\", function(d) { return y(d.y); })\n",
       "      .style(\"opacity\", function(d) { return k * d.r > 20 ? 1 : 0; });\n",
       "\n",
       "  node = d;\n",
       "  d3.event.stopPropagation();\n",
       "\n",
       "}\n",
       "});\n",
       "</script>\n"
      ],
      "text/plain": [
       "<IPython.core.display.HTML object>"
      ]
     },
     "execution_count": 194,
     "metadata": {},
     "output_type": "execute_result"
    }
   ],
   "source": [
    "from string import Template\n",
    "\n",
    "with open('CirclePack/html_template.html') as f:\n",
    "    html_template = Template(f.read())\n",
    "\n",
    "\n",
    "\n",
    "viz = html_template.substitute({'python_data': json.dumps(hier_dict)})\n",
    "\n",
    "HTML(viz) "
   ]
  },
  {
   "cell_type": "code",
   "execution_count": 195,
   "metadata": {
    "collapsed": false
   },
   "outputs": [],
   "source": [
    "with open('file_modified.json', 'w') as f:\n",
    "    json.dump(hier_dict, f, encoding='utf-8')"
   ]
  },
  {
   "cell_type": "code",
   "execution_count": 201,
   "metadata": {
    "collapsed": false
   },
   "outputs": [
    {
     "data": {
      "text/plain": [
       "{'children': [], 'name': 'root'}"
      ]
     },
     "execution_count": 201,
     "metadata": {},
     "output_type": "execute_result"
    }
   ],
   "source": [
    "hier_dict"
   ]
  },
  {
   "cell_type": "code",
   "execution_count": 266,
   "metadata": {
    "collapsed": false
   },
   "outputs": [
    {
     "data": {
      "text/plain": [
       "[u'apps/frontend/config/routing.yml\\napps/frontend/modules/compte/templates/paramSuccess.php\\nsf2/src/Dreyfus/IPWebBundle/Controller/AccountWatchCategoriesController.php']"
      ]
     },
     "execution_count": 266,
     "metadata": {},
     "output_type": "execute_result"
    }
   ],
   "source": [
    "df_tickets[df_tickets.is_default==1].files.dropna().values[0]"
   ]
  },
  {
   "cell_type": "code",
   "execution_count": 265,
   "metadata": {
    "collapsed": false
   },
   "outputs": [
    {
     "data": {
      "text/plain": [
       "(48, 46)"
      ]
     },
     "execution_count": 265,
     "metadata": {},
     "output_type": "execute_result"
    }
   ],
   "source": [
    "df_tickets[(df_tickets.is_default==0) & (df_tickets.files!=-1)].shape\n"
   ]
  },
  {
   "cell_type": "code",
   "execution_count": 275,
   "metadata": {
    "collapsed": false
   },
   "outputs": [
    {
     "name": "stdout",
     "output_type": "stream",
     "text": [
      "1\n",
      "1\n",
      "3\n",
      "1\n",
      "1\n",
      "1\n",
      "1\n",
      "1\n",
      "1\n",
      "1\n",
      "1\n",
      "2\n",
      "1\n",
      "2\n",
      "1\n",
      "3\n",
      "1\n",
      "1\n",
      "2\n",
      "2\n"
     ]
    }
   ],
   "source": [
    "hier_dict = initDIct()\n",
    "\n",
    "for foo in df_tickets[df_tickets.is_default==1].files:\n",
    "    if foo==-1: continue\n",
    "    print len(foo)\n",
    "    for test in foo[0].splitlines():\n",
    "        d = hier_dict\n",
    "        try: \n",
    "            for f in test.split('/'):\n",
    "                f= f.split('.')[0]\n",
    "                d = filter(lambda x:x['name']==f, d['children'])[0]\n",
    "            d['size']+=1\n",
    "        except:\n",
    "            pass\n",
    "\n"
   ]
  },
  {
   "cell_type": "code",
   "execution_count": 276,
   "metadata": {
    "collapsed": false
   },
   "outputs": [],
   "source": [
    "remove_0(hier_dict)"
   ]
  },
  {
   "cell_type": "code",
   "execution_count": 210,
   "metadata": {
    "collapsed": true
   },
   "outputs": [],
   "source": [
    "def filter_fn(dd):\n",
    "    return not (( dd.has_key('size') and dd['size']==0) or (dd.has_key('children') and len(dd['children'])==0))\n",
    "\n",
    "\n",
    "def remove_0(d):\n",
    "    if d.has_key('size'): return\n",
    "    if d.has_key('children'):\n",
    "        for dd in d['children']: \n",
    "            remove_0(dd)\n",
    "        d['children'] = filter(filter_fn, d['children'])\n",
    "            \n",
    "\n",
    "remove_0(hier_dict)"
   ]
  },
  {
   "cell_type": "code",
   "execution_count": 278,
   "metadata": {
    "collapsed": true
   },
   "outputs": [],
   "source": [
    "with open('donuts/file_modified_default.json', 'w') as f:\n",
    "    json.dump(hier_dict, f, encoding='utf-8')"
   ]
  },
  {
   "cell_type": "code",
   "execution_count": 277,
   "metadata": {
    "collapsed": false
   },
   "outputs": [
    {
     "data": {
      "text/plain": [
       "{'children': [{'children': [{'children': [{'children': [{'name': u'routing',\n",
       "         'size': 1}],\n",
       "       'name': u'config'},\n",
       "      {'children': [{'children': [{'children': [{'name': u'paramSuccess',\n",
       "             'size': 2}],\n",
       "           'name': u'templates'}],\n",
       "         'name': u'compte'},\n",
       "        {'children': [{'children': [{'name': u'generator', 'size': 1}],\n",
       "           'name': u'config'}],\n",
       "         'name': u'alertes'}],\n",
       "       'name': u'modules'}],\n",
       "     'name': u'frontend'}],\n",
       "   'name': u'apps'},\n",
       "  {'children': [{'children': [{'name': u'prod', 'size': 2}],\n",
       "     'name': u'stages'},\n",
       "    {'name': u'deploy', 'size': 2}],\n",
       "   'name': u'deploy'},\n",
       "  {'children': [{'children': [{'children': [{'children': [{'children': [{'name': u'AlertInjector',\n",
       "             'size': 1}],\n",
       "           'name': u'Manager'}],\n",
       "         'name': u'ImportBundle'},\n",
       "        {'children': [{'children': [{'name': u'Chat', 'size': 1},\n",
       "            {'name': u'Status', 'size': 1},\n",
       "            {'name': u'Watch', 'size': 1},\n",
       "            {'name': u'WatchGroup', 'size': 1},\n",
       "            {'name': u'WatchRight', 'size': 1},\n",
       "            {'name': u'SfGuardUser', 'size': 1},\n",
       "            {'name': u'AlertRight', 'size': 1},\n",
       "            {'name': u'Alert', 'size': 2},\n",
       "            {'name': u'UserRight', 'size': 1}],\n",
       "           'name': u'Entity'},\n",
       "          {'children': [{'name': u'WebPageAlertController', 'size': 1},\n",
       "            {'name': u'AccountWatchCategoriesController', 'size': 3},\n",
       "            {'name': u'WhoisAlertController', 'size': 1},\n",
       "            {'name': u'WebPageMonitoringController', 'size': 3}],\n",
       "           'name': u'Controller'},\n",
       "          {'children': [{'children': [{'children': [{'name': u'sf_admin',\n",
       "                 'size': 1}],\n",
       "               'name': u'css'},\n",
       "              {'children': [{'name': u'screencapture-history-carousel',\n",
       "                 'size': 1}],\n",
       "               'name': u'js'}],\n",
       "             'name': u'public'}],\n",
       "           'name': u'Resources'},\n",
       "          {'children': [{'name': u'WatchTypeRepository', 'size': 1},\n",
       "            {'name': u'StatusRepository', 'size': 1},\n",
       "            {'name': u'WebPageAlertRepository', 'size': 2}],\n",
       "           'name': u'Repository'},\n",
       "          {'children': [{'name': u'ScreenCaptureConsumer', 'size': 1},\n",
       "            {'name': u'WhoisConsumer', 'size': 1}],\n",
       "           'name': u'Consumer'},\n",
       "          {'children': [{'children': [{'children': [{'name': u'WebPageAlertFilterType',\n",
       "                 'size': 2}],\n",
       "               'name': u'WebPageAlert'}],\n",
       "             'name': u'Type'}],\n",
       "           'name': u'Filter'},\n",
       "          {'children': [{'name': u'DreyfusUrlMatcher', 'size': 1}],\n",
       "           'name': u'Routing'},\n",
       "          {'children': [{'name': u'WebPageScreencaptureHistoryFactory',\n",
       "             'size': 1}],\n",
       "           'name': u'Factory'}],\n",
       "         'name': u'IPWebBundle'}],\n",
       "       'name': u'Dreyfus'}],\n",
       "     'name': u'src'},\n",
       "    {'children': [{'children': [{'name': u'routing_legacy', 'size': 1},\n",
       "        {'name': u'config', 'size': 1}],\n",
       "       'name': u'config'},\n",
       "      {'children': [{'children': [{'name': u'environments', 'size': 1}],\n",
       "         'name': u'doc'}],\n",
       "       'name': u'Resources'}],\n",
       "     'name': u'app'}],\n",
       "   'name': u'sf2'}],\n",
       " 'name': 'root'}"
      ]
     },
     "execution_count": 277,
     "metadata": {},
     "output_type": "execute_result"
    }
   ],
   "source": [
    "hier_dict\n"
   ]
  },
  {
   "cell_type": "code",
   "execution_count": 204,
   "metadata": {
    "collapsed": true
   },
   "outputs": [],
   "source": [
    "df_tickets.idShort =df_tickets.idShort.map(str)"
   ]
  },
  {
   "cell_type": "code",
   "execution_count": 213,
   "metadata": {
    "collapsed": true
   },
   "outputs": [],
   "source": [
    "hier_dict = initDIct()\n",
    "\n",
    "for foo in df_tickets[df_tickets.is_default==0].files.dropna():\n",
    "    for test in foo:\n",
    "        d = hier_dict\n",
    "        try: \n",
    "            for f in test.split('/'):\n",
    "                f= f.split('.')[0]\n",
    "                d = filter(lambda x:x['name']==f, d['children'])[0]\n",
    "            d['size']+=1\n",
    "        except:\n",
    "            pass\n",
    "\n",
    "remove_0(hier_dict)"
   ]
  },
  {
   "cell_type": "code",
   "execution_count": 214,
   "metadata": {
    "collapsed": true
   },
   "outputs": [],
   "source": [
    "with open('file_modified_not_default.json', 'w') as f:\n",
    "    json.dump(hier_dict, f, encoding='utf-8')"
   ]
  },
  {
   "cell_type": "code",
   "execution_count": null,
   "metadata": {
    "collapsed": true
   },
   "outputs": [],
   "source": []
  }
 ],
 "metadata": {
  "kernelspec": {
   "display_name": "Python 2",
   "language": "python",
   "name": "python2"
  },
  "language_info": {
   "codemirror_mode": {
    "name": "ipython",
    "version": 2
   },
   "file_extension": ".py",
   "mimetype": "text/x-python",
   "name": "python",
   "nbconvert_exporter": "python",
   "pygments_lexer": "ipython2",
   "version": "2.7.12"
  }
 },
 "nbformat": 4,
 "nbformat_minor": 2
}
