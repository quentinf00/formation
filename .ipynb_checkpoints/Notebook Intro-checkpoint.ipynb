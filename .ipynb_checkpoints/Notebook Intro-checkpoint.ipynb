{
 "cells": [
  {
   "cell_type": "markdown",
   "metadata": {
    "collapsed": true
   },
   "source": [
    "# Import des Données"
   ]
  },
  {
   "cell_type": "markdown",
   "metadata": {},
   "source": [
    "## Données Trello"
   ]
  },
  {
   "cell_type": "code",
   "execution_count": 1,
   "metadata": {
    "collapsed": true
   },
   "outputs": [],
   "source": [
    "import pandas as pd\n",
    "from pandas.io.json import json_normalize\n",
    "import json\n",
    "import seaborn as sns\n",
    "%matplotlib inline\n",
    "\n",
    "dict_drey = json.load(open('boardDreyfus.json'))"
   ]
  },
  {
   "cell_type": "code",
   "execution_count": 2,
   "metadata": {
    "collapsed": false
   },
   "outputs": [
    {
     "data": {
      "text/plain": [
       "[u'labels',\n",
       " u'actions',\n",
       " u'id',\n",
       " u'datePluginDisable',\n",
       " u'subscribed',\n",
       " u'idTags',\n",
       " u'pinned',\n",
       " u'shortUrl',\n",
       " u'closed',\n",
       " u'checklists',\n",
       " u'prefs',\n",
       " u'dateLastActivity',\n",
       " u'lists',\n",
       " u'invitations',\n",
       " u'dateLastView',\n",
       " u'members',\n",
       " u'powerUps',\n",
       " u'desc',\n",
       " u'descData',\n",
       " u'labelNames',\n",
       " u'name',\n",
       " u'shortLink',\n",
       " u'idOrganization',\n",
       " u'invited',\n",
       " u'memberships',\n",
       " u'url',\n",
       " u'pluginData',\n",
       " u'cards',\n",
       " u'starred']"
      ]
     },
     "execution_count": 2,
     "metadata": {},
     "output_type": "execute_result"
    }
   ],
   "source": [
    "dict_drey.keys()"
   ]
  },
  {
   "cell_type": "code",
   "execution_count": 3,
   "metadata": {
    "collapsed": true
   },
   "outputs": [],
   "source": [
    "df_cards= json_normalize(dict_drey['cards'])"
   ]
  },
  {
   "cell_type": "code",
   "execution_count": 8,
   "metadata": {
    "collapsed": false
   },
   "outputs": [
    {
     "data": {
      "text/html": [
       "<div>\n",
       "<table border=\"1\" class=\"dataframe\">\n",
       "  <thead>\n",
       "    <tr style=\"text-align: right;\">\n",
       "      <th></th>\n",
       "      <th>name</th>\n",
       "      <th>desc</th>\n",
       "      <th>url</th>\n",
       "    </tr>\n",
       "  </thead>\n",
       "  <tbody>\n",
       "    <tr>\n",
       "      <th>0</th>\n",
       "      <td>ETQU, je peux définir les paramètres d'une sur...</td>\n",
       "      <td>- traduire les regex avec de l'unicode et véri...</td>\n",
       "      <td>https://trello.com/c/6Mzab1zE/2619-etqu-je-peu...</td>\n",
       "    </tr>\n",
       "    <tr>\n",
       "      <th>1</th>\n",
       "      <td>STANDARD : tout nouveau membre doit avoir coch...</td>\n",
       "      <td></td>\n",
       "      <td>https://trello.com/c/jGaaTKn7/3010-standard-to...</td>\n",
       "    </tr>\n",
       "    <tr>\n",
       "      <th>2</th>\n",
       "      <td>Ne JAMAIS toucher le code des crons d'import s...</td>\n",
       "      <td>Les crons ne sont quasiment pas testés.\\n\\nVoi...</td>\n",
       "      <td>https://trello.com/c/YOFRnqVS/3011-ne-jamais-t...</td>\n",
       "    </tr>\n",
       "    <tr>\n",
       "      <th>3</th>\n",
       "      <td>Ne pas faire d'action sur une base de données ...</td>\n",
       "      <td>Sinon on provoque une régression : https://tre...</td>\n",
       "      <td>https://trello.com/c/vXvmlWqg/3047-ne-pas-fair...</td>\n",
       "    </tr>\n",
       "    <tr>\n",
       "      <th>4</th>\n",
       "      <td>Emmanuel m'a créé un compte Dreyfus sur le sup...</td>\n",
       "      <td>On interagit tous les sprints avec Synalabs =&gt;...</td>\n",
       "      <td>https://trello.com/c/3z17Ia6X/3013-emmanuel-m-...</td>\n",
       "    </tr>\n",
       "  </tbody>\n",
       "</table>\n",
       "</div>"
      ],
      "text/plain": [
       "                                                name  \\\n",
       "0  ETQU, je peux définir les paramètres d'une sur...   \n",
       "1  STANDARD : tout nouveau membre doit avoir coch...   \n",
       "2  Ne JAMAIS toucher le code des crons d'import s...   \n",
       "3  Ne pas faire d'action sur une base de données ...   \n",
       "4  Emmanuel m'a créé un compte Dreyfus sur le sup...   \n",
       "\n",
       "                                                desc  \\\n",
       "0  - traduire les regex avec de l'unicode et véri...   \n",
       "1                                                      \n",
       "2  Les crons ne sont quasiment pas testés.\\n\\nVoi...   \n",
       "3  Sinon on provoque une régression : https://tre...   \n",
       "4  On interagit tous les sprints avec Synalabs =>...   \n",
       "\n",
       "                                                 url  \n",
       "0  https://trello.com/c/6Mzab1zE/2619-etqu-je-peu...  \n",
       "1  https://trello.com/c/jGaaTKn7/3010-standard-to...  \n",
       "2  https://trello.com/c/YOFRnqVS/3011-ne-jamais-t...  \n",
       "3  https://trello.com/c/vXvmlWqg/3047-ne-pas-fair...  \n",
       "4  https://trello.com/c/3z17Ia6X/3013-emmanuel-m-...  "
      ]
     },
     "execution_count": 8,
     "metadata": {},
     "output_type": "execute_result"
    }
   ],
   "source": [
    "df_cards[['name', 'desc', 'url']].head()"
   ]
  },
  {
   "cell_type": "code",
   "execution_count": 15,
   "metadata": {
    "collapsed": false
   },
   "outputs": [
    {
     "data": {
      "text/plain": [
       "Index([u'attachments', u'badges.attachments', u'badges.checkItems',\n",
       "       u'badges.checkItemsChecked', u'badges.comments', u'badges.description',\n",
       "       u'badges.due', u'badges.dueComplete', u'badges.fogbugz',\n",
       "       u'badges.subscribed', u'badges.viewingMemberVoted', u'badges.votes',\n",
       "       u'checkItemStates', u'closed', u'dateLastActivity', u'desc',\n",
       "       u'descData', u'due', u'dueComplete', u'email', u'id',\n",
       "       u'idAttachmentCover', u'idBoard', u'idChecklists', u'idLabels',\n",
       "       u'idList', u'idMembers', u'idMembersVoted', u'idShort', u'labels',\n",
       "       u'manualCoverAttachment', u'name', u'pluginData', u'pos', u'shortLink',\n",
       "       u'shortUrl', u'subscribed', u'url'],\n",
       "      dtype='object')"
      ]
     },
     "execution_count": 15,
     "metadata": {},
     "output_type": "execute_result"
    }
   ],
   "source": [
    "df_cards.columns"
   ]
  },
  {
   "cell_type": "code",
   "execution_count": 41,
   "metadata": {
    "collapsed": false
   },
   "outputs": [
    {
     "data": {
      "text/plain": [
       "514    (2) [Investigation]ETQDev, j'ai un environneme...\n",
       "516    (3) ETQEmmanuel, j'ai un supervisor qui foncti...\n",
       "518            (3) MEP marque blanche ipzen /!\\ Live [2]\n",
       "523                (3) MEP marque blanche kuras /!\\ Live\n",
       "524    [TIMEBOX] (1.5) ETQEmmanuel j'ai une doc sur l...\n",
       "525      (3) MEP marque blanche brand-solutions /!\\ Live\n",
       "529              (3) MEP marque blanche interro /!\\ Live\n",
       "530    (3) MEP marque blanche smwe: A terminer avant 14h\n",
       "536                             (2) MEPP (hors dossiers)\n",
       "538                (2) Roundcube marque blanche demo [3]\n",
       "540                      (3) MEP marque blanche demo [5]\n",
       "547    (1) ETQU, si le formulaire de création de doss...\n",
       "550    (1) ETQU, lorsque je crée ou lance une whois e...\n",
       "551    (1) ETQU, lorsque je crée ou lance une screenc...\n",
       "552    (2) [TIMEBOX] ETQU Dreyfus, je peux donner des...\n",
       "553                        (0.5) Atelier technique [0.5]\n",
       "554    (2) ETQU, Lorsque je crée un dossier, je peux ...\n",
       "556    (2) ETQU, Lorsque je crée un dossier, je peux ...\n",
       "558    (3) [TIMEBOX] ETQU Dreyfus, je peux donner des...\n",
       "561    (1) [TIMEBOX] ETQU Dreyfus, je peux donner des...\n",
       "562    (2) [TIMEBOX] ETQU Dreyfus, je peux donner des...\n",
       "565    (0.5) ETQDev, j'ai un provisionning qui marche...\n",
       "566                                     Daily Mail 16/02\n",
       "568    (0.5) ETQEmmanuel, je vois un ticket à synalab...\n",
       "573    (2) [TIMEBOX] (2/2)ETQU Dreyfus, lorsque que j...\n",
       "574    (2) [TIMEBOX] () Checklist MEP changement de v...\n",
       "575                                (2) MEP IPweb PHP 5.6\n",
       "576    (2) [URGENT] ETQU Client, je peux donner des i...\n",
       "578                                     Daily Mail 13/01\n",
       "579    (1) [TIMEBOX] (1/2)ETQU Dreyfus, lorsque que j...\n",
       "                             ...                        \n",
       "622    (3) ETQU, je vois le whois d'un nom de domaine...\n",
       "623    (3) ETQU, je vois le whois d'un nom de domaine...\n",
       "624    (2) [Timebox] ETQU, je vois le whois d'un nom ...\n",
       "630                           (1) Complément planing [1]\n",
       "634    (2) [Timebox]ETQU, le vois le statut d'un doss...\n",
       "635    (3)[Timebox] [URGENT] ETQU, lorsque j'importe ...\n",
       "640    (0.5) ETQU, je vois un champ Manager dans un d...\n",
       "642    (3) ETQU, je peux modifier le statut d'une cap...\n",
       "643    (1) ETQU, je vois le statut d'une alerte whois...\n",
       "644    (1) ETQU, je vois le statut d'une capture whoi...\n",
       "648    (3) [Investigation]ETQU, je peux exporter une ...\n",
       "649    (2) [Timebox] ETQU, je peux envoyer un email d...\n",
       "650    (3) ETQU, je peux envoyer une facture par emai...\n",
       "651    (2) ETQPO, mes commandes RabbitMQ sont relancé...\n",
       "653    (3) [Investigation]ETQU, je vois les alertes p...\n",
       "655    (1) ETQPO, mes commandes RabbitMQ sont relancé...\n",
       "662    (3) [TIMEBOX] ETQU, je peux créer une marque i...\n",
       "663     (3) ETQU, je peux créer une marque nationale [3]\n",
       "665    (3) [TIMEBOX] ETQU, je peux utiliser l'action ...\n",
       "667    (3) [TIMEBOX] ETQU, je peux créer un nom de do...\n",
       "672    (2) [2] [TIMEBOX] ETQU, lorsque je suis dans u...\n",
       "674    (3) [5] ETDev, j'ai le staging sur ubuntu 14.0...\n",
       "676    (3) [3] ETQPO, je vois un ticket à Synalabs de...\n",
       "677    (0.5) [0.5] ETQPO, je vois un ticket à Synalab...\n",
       "679                               (1) [1] MEPP (+client)\n",
       "681    (3) [5] ETQU, je peux chercher les whois des n...\n",
       "683    (2) ETQU, lorsque j'envoie un dossier en factu...\n",
       "689    (1) ETQU, dans le carousel des images, je vois...\n",
       "693    (1) [1] ETQU, lorsque je passe une capture Pag...\n",
       "694                [0.5] (0.5) Planning de fin de sprint\n",
       "Name: name, dtype: object"
      ]
     },
     "execution_count": 41,
     "metadata": {},
     "output_type": "execute_result"
    }
   ],
   "source": [
    "df_cards[df_cards.subscribed].name"
   ]
  },
  {
   "cell_type": "code",
   "execution_count": 52,
   "metadata": {
    "collapsed": true
   },
   "outputs": [],
   "source": [
    "df_cards.sort_values('dateLastActivity', inplace=True)"
   ]
  },
  {
   "cell_type": "code",
   "execution_count": 53,
   "metadata": {
    "collapsed": false
   },
   "outputs": [],
   "source": [
    "df_cards['one']= 0\n",
    "df_cards.loc[df_cards.subscribed,'one'] = df_cards[df_cards.subscribed].name.map(lambda x: x[1] if x[1] in ('1', '2', '3', '4', '5', '6') else '1').map(int).cumsum()\n",
    "df_cards.dateLastActivity = pd.to_datetime((df_cards.dateLastActivity), format='%Y-%m-%d %H:%M:%S.%f')"
   ]
  },
  {
   "cell_type": "code",
   "execution_count": 61,
   "metadata": {
    "collapsed": false
   },
   "outputs": [
    {
     "data": {
      "text/plain": [
       "<matplotlib.axes._subplots.AxesSubplot at 0x7feb5ce89450>"
      ]
     },
     "execution_count": 61,
     "metadata": {},
     "output_type": "execute_result"
    },
    {
     "data": {
      "image/png": "[encoded data removed]",
      "text/plain": [
       "<matplotlib.figure.Figure at 0x7feb5ce01d10>"
      ]
     },
     "metadata": {},
     "output_type": "display_data"
    }
   ],
   "source": [
    "df_cards[df_cards.subscribed].set_index('dateLastActivity').one.iloc[40:].plot()"
   ]
  },
  {
   "cell_type": "code",
   "execution_count": 60,
   "metadata": {
    "collapsed": false
   },
   "outputs": [
    {
     "data": {
      "text/plain": [
       "dateLastActivity\n",
       "2013-10-23 12:29:11.682      0\n",
       "2013-10-23 13:17:25.994      0\n",
       "2013-10-23 13:35:12.861      0\n",
       "2013-10-23 14:42:48.784      0\n",
       "2013-10-31 16:02:38.139      0\n",
       "2013-10-31 16:02:51.348      0\n",
       "2013-10-31 16:02:56.808      0\n",
       "2013-10-31 16:03:40.062      0\n",
       "2013-11-18 14:44:44.512      0\n",
       "2013-11-22 14:55:43.534      0\n",
       "2013-12-03 10:41:09.024      0\n",
       "2013-12-17 15:32:56.015      0\n",
       "2013-12-17 16:26:09.927      0\n",
       "2013-12-17 17:17:49.013      0\n",
       "2014-01-14 08:16:39.794      0\n",
       "2014-01-14 10:51:56.204      0\n",
       "2014-01-14 11:00:34.646      0\n",
       "2014-01-14 11:29:11.889      0\n",
       "2014-01-14 11:33:44.385      0\n",
       "2014-01-14 15:53:13.560      0\n",
       "2014-01-14 15:53:16.301      0\n",
       "2014-01-22 13:42:26.435      0\n",
       "2014-01-22 13:44:01.810      0\n",
       "2014-01-22 14:09:57.795      0\n",
       "2014-01-22 14:09:57.962      0\n",
       "2014-01-22 14:09:58.011      0\n",
       "2014-01-22 14:09:58.101      0\n",
       "2014-01-22 14:09:58.106      0\n",
       "2014-01-22 14:09:58.156      0\n",
       "2014-01-22 14:09:58.156      0\n",
       "                          ... \n",
       "2017-02-27 15:52:09.960      0\n",
       "2017-02-27 15:52:27.485      0\n",
       "2017-02-27 15:53:11.993      0\n",
       "2017-02-27 16:06:48.344      0\n",
       "2017-02-27 17:16:35.512      0\n",
       "2017-02-27 17:19:58.878      0\n",
       "2017-02-27 17:22:33.118      0\n",
       "2017-02-27 17:32:09.319      0\n",
       "2017-02-28 08:48:00.226      0\n",
       "2017-02-28 08:53:36.977      0\n",
       "2017-02-28 10:56:41.132    143\n",
       "2017-02-28 11:09:18.134      0\n",
       "2017-02-28 12:58:31.195    146\n",
       "2017-02-28 17:11:34.091      0\n",
       "2017-03-01 11:00:47.617      0\n",
       "2017-03-01 11:58:41.922      0\n",
       "2017-03-01 16:26:38.750    149\n",
       "2017-03-01 17:00:56.352    150\n",
       "2017-03-01 17:10:45.522    153\n",
       "2017-03-01 18:10:37.283      0\n",
       "2017-03-02 10:11:03.610      0\n",
       "2017-03-02 15:05:13.941      0\n",
       "2017-03-02 15:05:13.941    156\n",
       "2017-03-02 16:54:08.028      0\n",
       "2017-03-03 08:43:19.441      0\n",
       "2017-03-03 10:10:31.055      0\n",
       "2017-03-03 18:03:26.347    159\n",
       "2017-03-03 19:28:36.237    161\n",
       "2017-03-03 19:29:46.797      0\n",
       "2017-03-04 15:55:55.625      0\n",
       "Name: one, dtype: int64"
      ]
     },
     "execution_count": 60,
     "metadata": {},
     "output_type": "execute_result"
    }
   ],
   "source": [
    "df_cards.set_index('dateLastActivity').one"
   ]
  },
  {
   "cell_type": "code",
   "execution_count": null,
   "metadata": {
    "collapsed": true
   },
   "outputs": [],
   "source": []
  }
 ],
 "metadata": {
  "kernelspec": {
   "display_name": "Python 2",
   "language": "python",
   "name": "python2"
  },
  "language_info": {
   "codemirror_mode": {
    "name": "ipython",
    "version": 2
   },
   "file_extension": ".py",
   "mimetype": "text/x-python",
   "name": "python",
   "nbconvert_exporter": "python",
   "pygments_lexer": "ipython2",
   "version": "2.7.12"
  }
 },
 "nbformat": 4,
 "nbformat_minor": 2
}
